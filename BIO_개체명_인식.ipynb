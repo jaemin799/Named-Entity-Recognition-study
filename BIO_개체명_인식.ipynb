{
  "cells": [
    {
      "cell_type": "code",
      "execution_count": 1,
      "metadata": {
        "colab": {
          "base_uri": "https://localhost:8080/"
        },
        "id": "WrgtlL2yYENE",
        "outputId": "759c43d6-f987-4eac-9d98-f90da29fddf4"
      },
      "outputs": [
        {
          "output_type": "execute_result",
          "data": {
            "text/plain": [
              "('train.txt', <http.client.HTTPMessage at 0x7fae911bd5d0>)"
            ]
          },
          "metadata": {},
          "execution_count": 1
        }
      ],
      "source": [
        "import urllib.request\n",
        "\n",
        "urllib.request.urlretrieve(\"https://raw.githubusercontent.com/ukairia777/tensorflow-nlp-tutorial/main/12.%20RNN%20Sequence%20Labeling/dataset/train.txt\", filename=\"train.txt\")"
      ]
    },
    {
      "cell_type": "code",
      "source": [
        "import re\n",
        "\n",
        "f = open(\"train.txt\", \"r\")\n",
        "tagged_sentences = []\n",
        "sentence = []\n",
        "\n",
        "for line in f:\n",
        "  if len(line) == 0 or line.startswith(\"-DOCSTART\") or line[0] == '\\n':\n",
        "    if len(sentence) > 0:\n",
        "      tagged_sentences.append(sentence)\n",
        "      sentence = []\n",
        "    continue\n",
        "  splits = line.split(' ')\n",
        "  splits[-1] = re.sub(r'\\n', '', splits[-1])\n",
        "  word  = splits[0].lower()\n",
        "  sentence.append([word, splits[-1]])"
      ],
      "metadata": {
        "id": "t0Fdm3N9_iov"
      },
      "execution_count": 2,
      "outputs": []
    },
    {
      "cell_type": "code",
      "source": [
        "print(\"전체 샘플 수 : \", len(tagged_sentences))"
      ],
      "metadata": {
        "colab": {
          "base_uri": "https://localhost:8080/"
        },
        "id": "orB7f7FmAUEV",
        "outputId": "27394399-e6c6-4ef6-b89b-3ea708fc51ed"
      },
      "execution_count": 3,
      "outputs": [
        {
          "output_type": "stream",
          "name": "stdout",
          "text": [
            "전체 샘플 수 :  14041\n"
          ]
        }
      ]
    },
    {
      "cell_type": "code",
      "source": [
        "print(\"첫 번째 샘플 : \", tagged_sentences[0])"
      ],
      "metadata": {
        "colab": {
          "base_uri": "https://localhost:8080/"
        },
        "id": "nBl1VY6vAYee",
        "outputId": "fd70250c-9029-4ed8-ee7b-72646628608d"
      },
      "execution_count": 4,
      "outputs": [
        {
          "output_type": "stream",
          "name": "stdout",
          "text": [
            "첫 번째 샘플 :  [['eu', 'B-ORG'], ['rejects', 'O'], ['german', 'B-MISC'], ['call', 'O'], ['to', 'O'], ['boycott', 'O'], ['british', 'B-MISC'], ['lamb', 'O'], ['.', 'O']]\n"
          ]
        }
      ]
    },
    {
      "cell_type": "code",
      "source": [
        "sentences, ner_tag = [], []\n",
        "\n",
        "for tagged_sentence in tagged_sentences:\n",
        "  sentence, ner_info = zip(*tagged_sentence)\n",
        "  sentences.append(list(sentence))\n",
        "  ner_tag.append(list(ner_info))"
      ],
      "metadata": {
        "id": "Bb9nl9elAiK6"
      },
      "execution_count": 5,
      "outputs": []
    },
    {
      "cell_type": "code",
      "source": [
        "print(sentences[0])\n",
        "print(ner_tag[0])"
      ],
      "metadata": {
        "colab": {
          "base_uri": "https://localhost:8080/"
        },
        "id": "iZbjvAdIBZDY",
        "outputId": "7d36810c-380e-4db5-b7f8-bf47b2a5594b"
      },
      "execution_count": 6,
      "outputs": [
        {
          "output_type": "stream",
          "name": "stdout",
          "text": [
            "['eu', 'rejects', 'german', 'call', 'to', 'boycott', 'british', 'lamb', '.']\n",
            "['B-ORG', 'O', 'B-MISC', 'O', 'O', 'O', 'B-MISC', 'O', 'O']\n"
          ]
        }
      ]
    },
    {
      "cell_type": "code",
      "source": [
        "import matplotlib.pyplot as plt\n",
        "\n",
        "print(\"가장 긴 문장 길이 : %d\" % max(len(sentence) for sentence in sentences))\n",
        "print(\"평균 문장 길이 : %f\" %(sum(map(len, sentences))/len(sentences)))\n",
        "plt.hist([len(sentence) for sentence in sentences], bins=50)\n",
        "plt.xlabel(\"length of sample\")\n",
        "plt.ylabel(\"count of sample\")\n",
        "plt.show()"
      ],
      "metadata": {
        "colab": {
          "base_uri": "https://localhost:8080/",
          "height": 486
        },
        "id": "SOQsD7hmBzTR",
        "outputId": "89a69f81-ef7d-453c-c7b8-d685d9562f38"
      },
      "execution_count": 7,
      "outputs": [
        {
          "output_type": "stream",
          "name": "stdout",
          "text": [
            "가장 긴 문장 길이 : 113\n",
            "평균 문장 길이 : 14.501887\n"
          ]
        },
        {
          "output_type": "display_data",
          "data": {
            "text/plain": [
              "<Figure size 640x480 with 1 Axes>"
            ],
            "image/png": "[encoded data removed]"
          },
          "metadata": {}
        }
      ]
    },
    {
      "cell_type": "code",
      "source": [
        "from tensorflow.keras.preprocessing.text import Tokenizer\n",
        "\n",
        "vocab_size = 4000\n",
        "\n",
        "src_tokenizer = Tokenizer(num_words=vocab_size, oov_token='OOV')\n",
        "src_tokenizer.fit_on_texts(sentences)\n",
        "\n",
        "ner_tokenizer = Tokenizer()\n",
        "ner_tokenizer.fit_on_texts(ner_tag)"
      ],
      "metadata": {
        "id": "gg_8YieoC_b3"
      },
      "execution_count": 9,
      "outputs": []
    },
    {
      "cell_type": "code",
      "source": [
        "ner_tokenizer.word_index"
      ],
      "metadata": {
        "colab": {
          "base_uri": "https://localhost:8080/"
        },
        "id": "tjxf6hxQBPto",
        "outputId": "682ab4da-0be6-47ac-e99e-d26dffa47ca7"
      },
      "execution_count": 14,
      "outputs": [
        {
          "output_type": "execute_result",
          "data": {
            "text/plain": [
              "{'o': 1,\n",
              " 'b-loc': 2,\n",
              " 'b-per': 3,\n",
              " 'b-org': 4,\n",
              " 'i-per': 5,\n",
              " 'i-org': 6,\n",
              " 'b-misc': 7,\n",
              " 'i-loc': 8,\n",
              " 'i-misc': 9}"
            ]
          },
          "metadata": {},
          "execution_count": 14
        }
      ]
    },
    {
      "cell_type": "code",
      "source": [
        "tag_size = len(ner_tokenizer.word_index) + 1\n",
        "\n",
        "print(\"단어 사전 : {}\".format(vocab_size))\n",
        "print(\"태깅 개수 : {}\".format(tag_size))"
      ],
      "metadata": {
        "colab": {
          "base_uri": "https://localhost:8080/"
        },
        "id": "mbBnpSLiBZ-5",
        "outputId": "f1ddfe00-83a5-4c80-9063-ccbc7935471c"
      },
      "execution_count": 17,
      "outputs": [
        {
          "output_type": "stream",
          "name": "stdout",
          "text": [
            "단어 사전 : 4000\n",
            "태깅 개수 : 10\n"
          ]
        }
      ]
    },
    {
      "cell_type": "code",
      "source": [
        "x_data = src_tokenizer.texts_to_sequences(sentences)\n",
        "y_data = ner_tokenizer.texts_to_sequences(ner_tag)"
      ],
      "metadata": {
        "id": "UbHx9JsaC8vK"
      },
      "execution_count": 19,
      "outputs": []
    },
    {
      "cell_type": "code",
      "source": [
        "print(x_data[0])\n",
        "print(y_data[0])"
      ],
      "metadata": {
        "colab": {
          "base_uri": "https://localhost:8080/"
        },
        "id": "GroTt3rRDIer",
        "outputId": "cd1476f9-d701-4611-e0ca-e0a8e153fb6a"
      },
      "execution_count": 21,
      "outputs": [
        {
          "output_type": "stream",
          "name": "stdout",
          "text": [
            "[989, 1, 205, 629, 7, 3939, 216, 1, 3]\n",
            "[4, 1, 7, 1, 1, 1, 7, 1, 1]\n"
          ]
        }
      ]
    },
    {
      "cell_type": "code",
      "source": [
        "index_to_word = src_tokenizer.index_word\n",
        "index_to_ner = ner_tokenizer.index_word"
      ],
      "metadata": {
        "id": "6zz3R5TqCEmy"
      },
      "execution_count": 18,
      "outputs": []
    },
    {
      "cell_type": "code",
      "source": [
        "decoded = []\n",
        "\n",
        "for word in x_data[0]:\n",
        "  decoded.append(index_to_word[word])"
      ],
      "metadata": {
        "id": "fqDWjthzCrTv"
      },
      "execution_count": 23,
      "outputs": []
    },
    {
      "cell_type": "code",
      "source": [
        "print(\"원래 문장 : \", sentences[0])\n",
        "print(\"oov 처리된 문장 :\", decoded)"
      ],
      "metadata": {
        "colab": {
          "base_uri": "https://localhost:8080/"
        },
        "id": "xfAQFItgDXpb",
        "outputId": "573d0dff-c1e1-4e30-8693-cabf0b033b78"
      },
      "execution_count": 26,
      "outputs": [
        {
          "output_type": "stream",
          "name": "stdout",
          "text": [
            "원래 문장 :  ['eu', 'rejects', 'german', 'call', 'to', 'boycott', 'british', 'lamb', '.']\n",
            "oov 처리된 문장 : ['eu', 'OOV', 'german', 'call', 'to', 'boycott', 'british', 'OOV', '.']\n"
          ]
        }
      ]
    },
    {
      "cell_type": "code",
      "source": [
        "from tensorflow.keras.preprocessing.sequence import pad_sequences\n",
        "\n",
        "max_len = 70\n",
        "\n",
        "x_data = pad_sequences(x_data, maxlen=max_len, padding='post')\n",
        "y_data = pad_sequences(y_data, maxlen=max_len, padding='post')"
      ],
      "metadata": {
        "id": "amMAwPMTD7FF"
      },
      "execution_count": 30,
      "outputs": []
    },
    {
      "cell_type": "code",
      "source": [
        "from sklearn.model_selection import train_test_split\n",
        "x_train, x_test, y_train, y_test = train_test_split(x_data, y_data, test_size=0.2)"
      ],
      "metadata": {
        "id": "Jxn1B--gEUFe"
      },
      "execution_count": 31,
      "outputs": []
    },
    {
      "cell_type": "code",
      "source": [
        "from tensorflow.keras.utils import to_categorical\n",
        "\n",
        "y_train = to_categorical(y_train, num_classes=tag_size)\n",
        "y_test = to_categorical(y_test, num_classes=tag_size)"
      ],
      "metadata": {
        "id": "OVoSHAWxEoJj"
      },
      "execution_count": 32,
      "outputs": []
    },
    {
      "cell_type": "code",
      "source": [
        "print(\"훈련 데이터 문장 구조 : {}\".format(x_train.shape))\n",
        "print(\"검증 데이터 문장 구조 : {}\".format(x_test.shape))\n",
        "print(\"훈련 레이블 구조 : {}\".format(y_train.shape))\n",
        "print(\"검증 레이블 구조 : {}\".format(y_test.shape))"
      ],
      "metadata": {
        "colab": {
          "base_uri": "https://localhost:8080/"
        },
        "id": "ggqYwgxmE6hs",
        "outputId": "8ba3d167-a4f4-43b4-8993-29bb63f2ddd4"
      },
      "execution_count": 33,
      "outputs": [
        {
          "output_type": "stream",
          "name": "stdout",
          "text": [
            "훈련 데이터 문장 구조 : (11232, 70)\n",
            "검증 데이터 문장 구조 : (2809, 70)\n",
            "훈련 레이블 구조 : (11232, 70, 10)\n",
            "검증 레이블 구조 : (2809, 70, 10)\n"
          ]
        }
      ]
    },
    {
      "cell_type": "code",
      "source": [
        "from tensorflow.keras.models import Sequential\n",
        "from tensorflow.keras.layers import LSTM, Embedding, Bidirectional, TimeDistributed, Dense\n",
        "from tensorflow.keras.optimizers import Adam\n",
        "\n",
        "embedding_dim = 128\n",
        "hidden_units = 128\n",
        "\n",
        "model = Sequential()\n",
        "model.add(Embedding(input_dim=vocab_size, output_dim=embedding_dim, mask_zero=True, input_length=max_len))\n",
        "model.add(Bidirectional(LSTM(hidden_units, return_sequences=True)))\n",
        "model.add(TimeDistributed(Dense(tag_size, activation='softmax')))"
      ],
      "metadata": {
        "id": "HpRr1MR4FWm0"
      },
      "execution_count": 34,
      "outputs": []
    },
    {
      "cell_type": "code",
      "source": [
        "model.compile(loss='categorical_crossentropy', optimizer=Adam(0.001), metrics=['accuracy'])\n",
        "model.fit(x_train, y_train, batch_size=128, epochs=8, validation_data=(x_test, y_test))"
      ],
      "metadata": {
        "colab": {
          "base_uri": "https://localhost:8080/"
        },
        "id": "e8ksgDxjHnuZ",
        "outputId": "b820a5ec-3b39-4aa6-daa0-5a848634273a"
      },
      "execution_count": 41,
      "outputs": [
        {
          "output_type": "stream",
          "name": "stdout",
          "text": [
            "Epoch 1/8\n",
            "88/88 [==============================] - 72s 710ms/step - loss: 0.0953 - accuracy: 0.9717 - val_loss: 0.1693 - val_accuracy: 0.9552\n",
            "Epoch 2/8\n",
            "88/88 [==============================] - 59s 665ms/step - loss: 0.0827 - accuracy: 0.9754 - val_loss: 0.1649 - val_accuracy: 0.9548\n",
            "Epoch 3/8\n",
            "88/88 [==============================] - 65s 738ms/step - loss: 0.0737 - accuracy: 0.9779 - val_loss: 0.1708 - val_accuracy: 0.9545\n",
            "Epoch 4/8\n",
            "88/88 [==============================] - 59s 675ms/step - loss: 0.0654 - accuracy: 0.9804 - val_loss: 0.1842 - val_accuracy: 0.9549\n",
            "Epoch 5/8\n",
            "88/88 [==============================] - 60s 681ms/step - loss: 0.0575 - accuracy: 0.9832 - val_loss: 0.1853 - val_accuracy: 0.9529\n",
            "Epoch 6/8\n",
            "88/88 [==============================] - 64s 734ms/step - loss: 0.0540 - accuracy: 0.9841 - val_loss: 0.1888 - val_accuracy: 0.9533\n",
            "Epoch 7/8\n",
            "88/88 [==============================] - 66s 752ms/step - loss: 0.0473 - accuracy: 0.9859 - val_loss: 0.1992 - val_accuracy: 0.9529\n",
            "Epoch 8/8\n",
            "88/88 [==============================] - 59s 670ms/step - loss: 0.0418 - accuracy: 0.9881 - val_loss: 0.2012 - val_accuracy: 0.9532\n"
          ]
        },
        {
          "output_type": "execute_result",
          "data": {
            "text/plain": [
              "<keras.callbacks.History at 0x7fade9ba58d0>"
            ]
          },
          "metadata": {},
          "execution_count": 41
        }
      ]
    },
    {
      "cell_type": "code",
      "source": [
        "print(\"모델 검증 정확도 %.4f\" % (model.evaluate(x_test, y_test)[1]))"
      ],
      "metadata": {
        "colab": {
          "base_uri": "https://localhost:8080/"
        },
        "id": "aTazEByKIHH8",
        "outputId": "6dc68a83-2422-4285-d409-19c303775416"
      },
      "execution_count": 44,
      "outputs": [
        {
          "output_type": "stream",
          "name": "stdout",
          "text": [
            "88/88 [==============================] - 7s 83ms/step - loss: 0.1995 - accuracy: 0.9532\n",
            "모델 검증 정확도 0.9532\n"
          ]
        }
      ]
    },
    {
      "cell_type": "code",
      "source": [
        "import numpy as np\n",
        "\n",
        "i = 10\n",
        "\n",
        "y_predicted = model.predict(np.array([x_test[i]]))\n",
        "\n",
        "y_predicted = np.argmax(y_predicted, axis=-1)\n",
        "\n",
        "labels = np.argmax(y_test[i], -1)\n",
        "\n",
        "print(\"{:15}|{:5}|{}\".format(\"단어\", \"실제값\", \"예측값\"))\n",
        "print(35*\"-\")\n",
        "\n",
        "for word, tag, pred in zip(x_test[i], labels, y_predicted[0]):\n",
        "  if word != 0:\n",
        "    print(\"{:17}: {:7} {}\".format(index_to_word[word], index_to_ner[tag].upper(), index_to_ner[pred].upper()))"
      ],
      "metadata": {
        "colab": {
          "base_uri": "https://localhost:8080/"
        },
        "id": "e_uPkfMJIjzA",
        "outputId": "425ea8e7-5840-40a6-fde1-bdf3a5d75f1a"
      },
      "execution_count": 46,
      "outputs": [
        {
          "output_type": "stream",
          "name": "stdout",
          "text": [
            "1/1 [==============================] - 0s 31ms/step\n",
            "단어             |실제값  |예측값\n",
            "-----------------------------------\n",
            "in               : O       O\n",
            "san              : B-LOC   B-LOC\n",
            "francisco        : I-LOC   I-LOC\n",
            ",                : O       O\n",
            "mike             : B-PER   B-PER\n",
            "williams         : I-PER   I-PER\n",
            "allowed          : O       O\n",
            "two              : O       O\n",
            "runs             : O       O\n",
            "in               : O       O\n",
            "OOV              : O       O\n",
            "innings          : O       O\n",
            "and              : O       O\n",
            "OOV              : B-PER   B-PER\n",
            "OOV              : I-PER   I-PER\n",
            "and              : O       O\n",
            "OOV              : B-PER   B-PER\n",
            "OOV              : I-PER   I-PER\n",
            "had              : O       O\n",
            "rbi              : B-MISC  B-MISC\n",
            "hits             : O       O\n",
            "in               : O       O\n",
            "the              : O       O\n",
            "first            : O       O\n",
            "inning           : O       O\n",
            "as               : O       O\n",
            "the              : O       O\n",
            "philadelphia     : B-ORG   B-ORG\n",
            "phillies         : I-ORG   I-ORG\n",
            "edged            : O       O\n",
            "the              : O       O\n",
            "san              : B-ORG   B-ORG\n",
            "francisco        : I-ORG   I-ORG\n",
            "giants           : I-ORG   I-ORG\n",
            "3-2              : O       O\n",
            ".                : O       O\n"
          ]
        }
      ]
    },
    {
      "cell_type": "markdown",
      "source": [
        "[노션 내용 정리](https://www.notion.so/BIO-7b75e2e3a6314235bf4c97d506e73359)\n",
        "\n"
      ],
      "metadata": {
        "id": "E60Gib0GRD82"
      }
    }
  ],
  "metadata": {
    "colab": {
      "provenance": []
    },
    "gpuClass": "premium",
    "kernelspec": {
      "display_name": "Python 3",
      "name": "python3"
    },
    "language_info": {
      "name": "python"
    }
  },
  "nbformat": 4,
  "nbformat_minor": 0
}