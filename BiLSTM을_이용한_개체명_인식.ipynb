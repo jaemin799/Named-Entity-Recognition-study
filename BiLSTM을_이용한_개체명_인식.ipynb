{
  "cells": [
    {
      "cell_type": "code",
      "source": [
        "import pandas as pd\n",
        "import numpy as np\n",
        "import matplotlib.pyplot as plt\n",
        "from tensorflow.keras.preprocessing.text import Tokenizer\n",
        "from tensorflow.keras.preprocessing.sequence import pad_sequences\n",
        "from sklearn.model_selection import train_test_split\n",
        "from tensorflow.keras.utils import to_categorical"
      ],
      "metadata": {
        "id": "TxGqwYDTAO-X"
      },
      "execution_count": 1,
      "outputs": []
    },
    {
      "cell_type": "code",
      "source": [
        "data = pd.read_csv('ner_dataset.csv', encoding='latin1')"
      ],
      "metadata": {
        "id": "sFMAZqMBGL5d"
      },
      "execution_count": 2,
      "outputs": []
    },
    {
      "cell_type": "code",
      "source": [
        "data[:5]"
      ],
      "metadata": {
        "colab": {
          "base_uri": "https://localhost:8080/",
          "height": 206
        },
        "id": "yDVXt5-XG8IK",
        "outputId": "1077319c-c308-43c0-b80b-b0ef0deed2ed"
      },
      "execution_count": 3,
      "outputs": [
        {
          "output_type": "execute_result",
          "data": {
            "text/plain": [
              "    Sentence #           Word  POS Tag\n",
              "0  Sentence: 1      Thousands  NNS   O\n",
              "1          NaN             of   IN   O\n",
              "2          NaN  demonstrators  NNS   O\n",
              "3          NaN           have  VBP   O\n",
              "4          NaN        marched  VBN   O"
            ],
            "text/html": [
              "\n",
              "  <div id=\"df-63f4eadb-e942-43f4-9343-093a780d55b8\">\n",
              "    <div class=\"colab-df-container\">\n",
              "      <div>\n",
              "<style scoped>\n",
              "    .dataframe tbody tr th:only-of-type {\n",
              "        vertical-align: middle;\n",
              "    }\n",
              "\n",
              "    .dataframe tbody tr th {\n",
              "        vertical-align: top;\n",
              "    }\n",
              "\n",
              "    .dataframe thead th {\n",
              "        text-align: right;\n",
              "    }\n",
              "</style>\n",
              "<table border=\"1\" class=\"dataframe\">\n",
              "  <thead>\n",
              "    <tr style=\"text-align: right;\">\n",
              "      <th></th>\n",
              "      <th>Sentence #</th>\n",
              "      <th>Word</th>\n",
              "      <th>POS</th>\n",
              "      <th>Tag</th>\n",
              "    </tr>\n",
              "  </thead>\n",
              "  <tbody>\n",
              "    <tr>\n",
              "      <th>0</th>\n",
              "      <td>Sentence: 1</td>\n",
              "      <td>Thousands</td>\n",
              "      <td>NNS</td>\n",
              "      <td>O</td>\n",
              "    </tr>\n",
              "    <tr>\n",
              "      <th>1</th>\n",
              "      <td>NaN</td>\n",
              "      <td>of</td>\n",
              "      <td>IN</td>\n",
              "      <td>O</td>\n",
              "    </tr>\n",
              "    <tr>\n",
              "      <th>2</th>\n",
              "      <td>NaN</td>\n",
              "      <td>demonstrators</td>\n",
              "      <td>NNS</td>\n",
              "      <td>O</td>\n",
              "    </tr>\n",
              "    <tr>\n",
              "      <th>3</th>\n",
              "      <td>NaN</td>\n",
              "      <td>have</td>\n",
              "      <td>VBP</td>\n",
              "      <td>O</td>\n",
              "    </tr>\n",
              "    <tr>\n",
              "      <th>4</th>\n",
              "      <td>NaN</td>\n",
              "      <td>marched</td>\n",
              "      <td>VBN</td>\n",
              "      <td>O</td>\n",
              "    </tr>\n",
              "  </tbody>\n",
              "</table>\n",
              "</div>\n",
              "      <button class=\"colab-df-convert\" onclick=\"convertToInteractive('df-63f4eadb-e942-43f4-9343-093a780d55b8')\"\n",
              "              title=\"Convert this dataframe to an interactive table.\"\n",
              "              style=\"display:none;\">\n",
              "        \n",
              "  <svg xmlns=\"http://www.w3.org/2000/svg\" height=\"24px\"viewBox=\"0 0 24 24\"\n",
              "       width=\"24px\">\n",
              "    <path d=\"M0 0h24v24H0V0z\" fill=\"none\"/>\n",
              "    <path d=\"M18.56 5.44l.94 2.06.94-2.06 2.06-.94-2.06-.94-.94-2.06-.94 2.06-2.06.94zm-11 1L8.5 8.5l.94-2.06 2.06-.94-2.06-.94L8.5 2.5l-.94 2.06-2.06.94zm10 10l.94 2.06.94-2.06 2.06-.94-2.06-.94-.94-2.06-.94 2.06-2.06.94z\"/><path d=\"M17.41 7.96l-1.37-1.37c-.4-.4-.92-.59-1.43-.59-.52 0-1.04.2-1.43.59L10.3 9.45l-7.72 7.72c-.78.78-.78 2.05 0 2.83L4 21.41c.39.39.9.59 1.41.59.51 0 1.02-.2 1.41-.59l7.78-7.78 2.81-2.81c.8-.78.8-2.07 0-2.86zM5.41 20L4 18.59l7.72-7.72 1.47 1.35L5.41 20z\"/>\n",
              "  </svg>\n",
              "      </button>\n",
              "      \n",
              "  <style>\n",
              "    .colab-df-container {\n",
              "      display:flex;\n",
              "      flex-wrap:wrap;\n",
              "      gap: 12px;\n",
              "    }\n",
              "\n",
              "    .colab-df-convert {\n",
              "      background-color: #E8F0FE;\n",
              "      border: none;\n",
              "      border-radius: 50%;\n",
              "      cursor: pointer;\n",
              "      display: none;\n",
              "      fill: #1967D2;\n",
              "      height: 32px;\n",
              "      padding: 0 0 0 0;\n",
              "      width: 32px;\n",
              "    }\n",
              "\n",
              "    .colab-df-convert:hover {\n",
              "      background-color: #E2EBFA;\n",
              "      box-shadow: 0px 1px 2px rgba(60, 64, 67, 0.3), 0px 1px 3px 1px rgba(60, 64, 67, 0.15);\n",
              "      fill: #174EA6;\n",
              "    }\n",
              "\n",
              "    [theme=dark] .colab-df-convert {\n",
              "      background-color: #3B4455;\n",
              "      fill: #D2E3FC;\n",
              "    }\n",
              "\n",
              "    [theme=dark] .colab-df-convert:hover {\n",
              "      background-color: #434B5C;\n",
              "      box-shadow: 0px 1px 3px 1px rgba(0, 0, 0, 0.15);\n",
              "      filter: drop-shadow(0px 1px 2px rgba(0, 0, 0, 0.3));\n",
              "      fill: #FFFFFF;\n",
              "    }\n",
              "  </style>\n",
              "\n",
              "      <script>\n",
              "        const buttonEl =\n",
              "          document.querySelector('#df-63f4eadb-e942-43f4-9343-093a780d55b8 button.colab-df-convert');\n",
              "        buttonEl.style.display =\n",
              "          google.colab.kernel.accessAllowed ? 'block' : 'none';\n",
              "\n",
              "        async function convertToInteractive(key) {\n",
              "          const element = document.querySelector('#df-63f4eadb-e942-43f4-9343-093a780d55b8');\n",
              "          const dataTable =\n",
              "            await google.colab.kernel.invokeFunction('convertToInteractive',\n",
              "                                                     [key], {});\n",
              "          if (!dataTable) return;\n",
              "\n",
              "          const docLinkHtml = 'Like what you see? Visit the ' +\n",
              "            '<a target=\"_blank\" href=https://colab.research.google.com/notebooks/data_table.ipynb>data table notebook</a>'\n",
              "            + ' to learn more about interactive tables.';\n",
              "          element.innerHTML = '';\n",
              "          dataTable['output_type'] = 'display_data';\n",
              "          await google.colab.output.renderOutput(dataTable, element);\n",
              "          const docLink = document.createElement('div');\n",
              "          docLink.innerHTML = docLinkHtml;\n",
              "          element.appendChild(docLink);\n",
              "        }\n",
              "      </script>\n",
              "    </div>\n",
              "  </div>\n",
              "  "
            ]
          },
          "metadata": {},
          "execution_count": 3
        }
      ]
    },
    {
      "cell_type": "code",
      "source": [
        "print(\"데이터프레임 행의 개수 : {}\".format(len(data)))"
      ],
      "metadata": {
        "colab": {
          "base_uri": "https://localhost:8080/"
        },
        "id": "YLGjMkpSG9IA",
        "outputId": "54bfcdb8-0da5-466a-df1f-0c3795b94231"
      },
      "execution_count": 4,
      "outputs": [
        {
          "output_type": "stream",
          "name": "stdout",
          "text": [
            "데이터프레임 행의 개수 : 1048575\n"
          ]
        }
      ]
    },
    {
      "cell_type": "code",
      "source": [
        "print(\"데이터에 Null 값이 있는지 유무 : \" +str(data.isnull().values.any()))"
      ],
      "metadata": {
        "colab": {
          "base_uri": "https://localhost:8080/"
        },
        "id": "93zzcxx1HMCg",
        "outputId": "2f2c009e-da94-43da-cf13-54df8e8fee96"
      },
      "execution_count": 5,
      "outputs": [
        {
          "output_type": "stream",
          "name": "stdout",
          "text": [
            "데이터에 Null 값이 있는지 유무 : True\n"
          ]
        }
      ]
    },
    {
      "cell_type": "code",
      "source": [
        "data_test = pd.DataFrame({\"A\":[1, 2, np.nan],\n",
        "                          \"B\":[3, np.nan, 4]})\n",
        "data_test.isnull()"
      ],
      "metadata": {
        "colab": {
          "base_uri": "https://localhost:8080/",
          "height": 143
        },
        "id": "NYkHEA9IHTaJ",
        "outputId": "f5037790-281a-4dde-c7d8-b834dbebb153"
      },
      "execution_count": 6,
      "outputs": [
        {
          "output_type": "execute_result",
          "data": {
            "text/plain": [
              "       A      B\n",
              "0  False  False\n",
              "1  False   True\n",
              "2   True  False"
            ],
            "text/html": [
              "\n",
              "  <div id=\"df-9645a780-4b79-45f0-9436-9dd18338fb34\">\n",
              "    <div class=\"colab-df-container\">\n",
              "      <div>\n",
              "<style scoped>\n",
              "    .dataframe tbody tr th:only-of-type {\n",
              "        vertical-align: middle;\n",
              "    }\n",
              "\n",
              "    .dataframe tbody tr th {\n",
              "        vertical-align: top;\n",
              "    }\n",
              "\n",
              "    .dataframe thead th {\n",
              "        text-align: right;\n",
              "    }\n",
              "</style>\n",
              "<table border=\"1\" class=\"dataframe\">\n",
              "  <thead>\n",
              "    <tr style=\"text-align: right;\">\n",
              "      <th></th>\n",
              "      <th>A</th>\n",
              "      <th>B</th>\n",
              "    </tr>\n",
              "  </thead>\n",
              "  <tbody>\n",
              "    <tr>\n",
              "      <th>0</th>\n",
              "      <td>False</td>\n",
              "      <td>False</td>\n",
              "    </tr>\n",
              "    <tr>\n",
              "      <th>1</th>\n",
              "      <td>False</td>\n",
              "      <td>True</td>\n",
              "    </tr>\n",
              "    <tr>\n",
              "      <th>2</th>\n",
              "      <td>True</td>\n",
              "      <td>False</td>\n",
              "    </tr>\n",
              "  </tbody>\n",
              "</table>\n",
              "</div>\n",
              "      <button class=\"colab-df-convert\" onclick=\"convertToInteractive('df-9645a780-4b79-45f0-9436-9dd18338fb34')\"\n",
              "              title=\"Convert this dataframe to an interactive table.\"\n",
              "              style=\"display:none;\">\n",
              "        \n",
              "  <svg xmlns=\"http://www.w3.org/2000/svg\" height=\"24px\"viewBox=\"0 0 24 24\"\n",
              "       width=\"24px\">\n",
              "    <path d=\"M0 0h24v24H0V0z\" fill=\"none\"/>\n",
              "    <path d=\"M18.56 5.44l.94 2.06.94-2.06 2.06-.94-2.06-.94-.94-2.06-.94 2.06-2.06.94zm-11 1L8.5 8.5l.94-2.06 2.06-.94-2.06-.94L8.5 2.5l-.94 2.06-2.06.94zm10 10l.94 2.06.94-2.06 2.06-.94-2.06-.94-.94-2.06-.94 2.06-2.06.94z\"/><path d=\"M17.41 7.96l-1.37-1.37c-.4-.4-.92-.59-1.43-.59-.52 0-1.04.2-1.43.59L10.3 9.45l-7.72 7.72c-.78.78-.78 2.05 0 2.83L4 21.41c.39.39.9.59 1.41.59.51 0 1.02-.2 1.41-.59l7.78-7.78 2.81-2.81c.8-.78.8-2.07 0-2.86zM5.41 20L4 18.59l7.72-7.72 1.47 1.35L5.41 20z\"/>\n",
              "  </svg>\n",
              "      </button>\n",
              "      \n",
              "  <style>\n",
              "    .colab-df-container {\n",
              "      display:flex;\n",
              "      flex-wrap:wrap;\n",
              "      gap: 12px;\n",
              "    }\n",
              "\n",
              "    .colab-df-convert {\n",
              "      background-color: #E8F0FE;\n",
              "      border: none;\n",
              "      border-radius: 50%;\n",
              "      cursor: pointer;\n",
              "      display: none;\n",
              "      fill: #1967D2;\n",
              "      height: 32px;\n",
              "      padding: 0 0 0 0;\n",
              "      width: 32px;\n",
              "    }\n",
              "\n",
              "    .colab-df-convert:hover {\n",
              "      background-color: #E2EBFA;\n",
              "      box-shadow: 0px 1px 2px rgba(60, 64, 67, 0.3), 0px 1px 3px 1px rgba(60, 64, 67, 0.15);\n",
              "      fill: #174EA6;\n",
              "    }\n",
              "\n",
              "    [theme=dark] .colab-df-convert {\n",
              "      background-color: #3B4455;\n",
              "      fill: #D2E3FC;\n",
              "    }\n",
              "\n",
              "    [theme=dark] .colab-df-convert:hover {\n",
              "      background-color: #434B5C;\n",
              "      box-shadow: 0px 1px 3px 1px rgba(0, 0, 0, 0.15);\n",
              "      filter: drop-shadow(0px 1px 2px rgba(0, 0, 0, 0.3));\n",
              "      fill: #FFFFFF;\n",
              "    }\n",
              "  </style>\n",
              "\n",
              "      <script>\n",
              "        const buttonEl =\n",
              "          document.querySelector('#df-9645a780-4b79-45f0-9436-9dd18338fb34 button.colab-df-convert');\n",
              "        buttonEl.style.display =\n",
              "          google.colab.kernel.accessAllowed ? 'block' : 'none';\n",
              "\n",
              "        async function convertToInteractive(key) {\n",
              "          const element = document.querySelector('#df-9645a780-4b79-45f0-9436-9dd18338fb34');\n",
              "          const dataTable =\n",
              "            await google.colab.kernel.invokeFunction('convertToInteractive',\n",
              "                                                     [key], {});\n",
              "          if (!dataTable) return;\n",
              "\n",
              "          const docLinkHtml = 'Like what you see? Visit the ' +\n",
              "            '<a target=\"_blank\" href=https://colab.research.google.com/notebooks/data_table.ipynb>data table notebook</a>'\n",
              "            + ' to learn more about interactive tables.';\n",
              "          element.innerHTML = '';\n",
              "          dataTable['output_type'] = 'display_data';\n",
              "          await google.colab.output.renderOutput(dataTable, element);\n",
              "          const docLink = document.createElement('div');\n",
              "          docLink.innerHTML = docLinkHtml;\n",
              "          element.appendChild(docLink);\n",
              "        }\n",
              "      </script>\n",
              "    </div>\n",
              "  </div>\n",
              "  "
            ]
          },
          "metadata": {},
          "execution_count": 6
        }
      ]
    },
    {
      "cell_type": "code",
      "source": [
        "data_test.isnull().values"
      ],
      "metadata": {
        "colab": {
          "base_uri": "https://localhost:8080/"
        },
        "id": "7Gkv_SdRHn2B",
        "outputId": "38ec9728-3d53-4c45-b6f5-ef9d477073a8"
      },
      "execution_count": 8,
      "outputs": [
        {
          "output_type": "execute_result",
          "data": {
            "text/plain": [
              "array([[False, False],\n",
              "       [False,  True],\n",
              "       [ True, False]])"
            ]
          },
          "metadata": {},
          "execution_count": 8
        }
      ]
    },
    {
      "cell_type": "code",
      "source": [
        "data_test.isnull().values.any()"
      ],
      "metadata": {
        "colab": {
          "base_uri": "https://localhost:8080/"
        },
        "id": "Fu-8TtDgHur4",
        "outputId": "666f553c-0da3-4d72-e743-946c0fa3a590"
      },
      "execution_count": 10,
      "outputs": [
        {
          "output_type": "execute_result",
          "data": {
            "text/plain": [
              "True"
            ]
          },
          "metadata": {},
          "execution_count": 10
        }
      ]
    },
    {
      "cell_type": "code",
      "source": [
        "print('어떤 열에 Null 값이 있는지 출력')\n",
        "print('================================')\n",
        "data.isnull().sum()"
      ],
      "metadata": {
        "colab": {
          "base_uri": "https://localhost:8080/"
        },
        "id": "AWUne0zqH0tZ",
        "outputId": "cd0ec21f-072b-4cda-ed11-931fe7e9c4f9"
      },
      "execution_count": 11,
      "outputs": [
        {
          "output_type": "stream",
          "name": "stdout",
          "text": [
            "어떤 열에 Null 값이 있는지 출력\n",
            "================================\n"
          ]
        },
        {
          "output_type": "execute_result",
          "data": {
            "text/plain": [
              "Sentence #    1000616\n",
              "Word                0\n",
              "POS                 0\n",
              "Tag                 0\n",
              "dtype: int64"
            ]
          },
          "metadata": {},
          "execution_count": 11
        }
      ]
    },
    {
      "cell_type": "code",
      "source": [
        "print('sentence # 열의 중복을 제거한 값의 개수 : {}'.format(data['Sentence #'].nunique()))\n",
        "print('Word 열의 중복을 제거한 값의 개수 : {}'.format(data.Word.nunique()))\n",
        "print('Tag 열의 중복을 제거한 값의 개수 : {}'.format(data.Tag.nunique()))"
      ],
      "metadata": {
        "colab": {
          "base_uri": "https://localhost:8080/"
        },
        "id": "1zGD46G2H9eQ",
        "outputId": "914c2614-9aee-4115-a06e-73a95cf9094e"
      },
      "execution_count": 13,
      "outputs": [
        {
          "output_type": "stream",
          "name": "stdout",
          "text": [
            "sentence # 열의 중복을 제거한 값의 개수 : 47959\n",
            "Word 열의 중복을 제거한 값의 개수 : 35178\n",
            "Tag 열의 중복을 제거한 값의 개수 : 17\n"
          ]
        }
      ]
    },
    {
      "cell_type": "code",
      "source": [
        "print('Tag 열의 각각의 값의 개수 카운트')\n",
        "print('===================================')\n",
        "print(data.groupby('Tag').size().reset_index(name='count'))"
      ],
      "metadata": {
        "colab": {
          "base_uri": "https://localhost:8080/"
        },
        "id": "48tnwqbjIUdA",
        "outputId": "86509e9f-b74a-4e0a-c948-335ea3c22cfd"
      },
      "execution_count": 14,
      "outputs": [
        {
          "output_type": "stream",
          "name": "stdout",
          "text": [
            "Tag 열의 각각의 값의 개수 카운트\n",
            "===================================\n",
            "      Tag   count\n",
            "0   B-art     402\n",
            "1   B-eve     308\n",
            "2   B-geo   37644\n",
            "3   B-gpe   15870\n",
            "4   B-nat     201\n",
            "5   B-org   20143\n",
            "6   B-per   16990\n",
            "7   B-tim   20333\n",
            "8   I-art     297\n",
            "9   I-eve     253\n",
            "10  I-geo    7414\n",
            "11  I-gpe     198\n",
            "12  I-nat      51\n",
            "13  I-org   16784\n",
            "14  I-per   17251\n",
            "15  I-tim    6528\n",
            "16      O  887908\n"
          ]
        }
      ]
    },
    {
      "cell_type": "code",
      "source": [
        "data = data.fillna(method='ffill')\n",
        "print(data.tail())"
      ],
      "metadata": {
        "colab": {
          "base_uri": "https://localhost:8080/"
        },
        "id": "qJKlKjM0IigI",
        "outputId": "67366ef1-ca10-4b38-99f8-408bbccb2a97"
      },
      "execution_count": 15,
      "outputs": [
        {
          "output_type": "stream",
          "name": "stdout",
          "text": [
            "              Sentence #       Word  POS Tag\n",
            "1048570  Sentence: 47959       they  PRP   O\n",
            "1048571  Sentence: 47959  responded  VBD   O\n",
            "1048572  Sentence: 47959         to   TO   O\n",
            "1048573  Sentence: 47959        the   DT   O\n",
            "1048574  Sentence: 47959     attack   NN   O\n"
          ]
        }
      ]
    },
    {
      "cell_type": "code",
      "source": [
        "print('데이터에 Null 값이 있는지 유무 : ' + str(data.isnull().values.any()))"
      ],
      "metadata": {
        "colab": {
          "base_uri": "https://localhost:8080/"
        },
        "id": "D4HnaJoGIyFY",
        "outputId": "b11ae836-bed7-4b2b-c411-6a24d0decd20"
      },
      "execution_count": 16,
      "outputs": [
        {
          "output_type": "stream",
          "name": "stdout",
          "text": [
            "데이터에 Null 값이 있는지 유무 : False\n"
          ]
        }
      ]
    },
    {
      "cell_type": "code",
      "source": [
        "data['Word'] = data['Word'].str.lower()\n",
        "print('Word 열의 중복을 제거한 값의 개수 : {}'.format(data.Word.nunique()))"
      ],
      "metadata": {
        "colab": {
          "base_uri": "https://localhost:8080/"
        },
        "id": "wpOp2WhOI6oI",
        "outputId": "d211e785-8772-4d68-9da1-2a7ca4a9f8fb"
      },
      "execution_count": 17,
      "outputs": [
        {
          "output_type": "stream",
          "name": "stdout",
          "text": [
            "Word 열의 중복을 제거한 값의 개수 : 31817\n"
          ]
        }
      ]
    },
    {
      "cell_type": "code",
      "source": [
        "data[:5]"
      ],
      "metadata": {
        "colab": {
          "base_uri": "https://localhost:8080/",
          "height": 206
        },
        "id": "keCdIDVPJEKY",
        "outputId": "a248d3d4-ec5d-49eb-94a0-c3088541a794"
      },
      "execution_count": 18,
      "outputs": [
        {
          "output_type": "execute_result",
          "data": {
            "text/plain": [
              "    Sentence #           Word  POS Tag\n",
              "0  Sentence: 1      thousands  NNS   O\n",
              "1  Sentence: 1             of   IN   O\n",
              "2  Sentence: 1  demonstrators  NNS   O\n",
              "3  Sentence: 1           have  VBP   O\n",
              "4  Sentence: 1        marched  VBN   O"
            ],
            "text/html": [
              "\n",
              "  <div id=\"df-b436afbc-3fd5-4af8-90dd-547705beac54\">\n",
              "    <div class=\"colab-df-container\">\n",
              "      <div>\n",
              "<style scoped>\n",
              "    .dataframe tbody tr th:only-of-type {\n",
              "        vertical-align: middle;\n",
              "    }\n",
              "\n",
              "    .dataframe tbody tr th {\n",
              "        vertical-align: top;\n",
              "    }\n",
              "\n",
              "    .dataframe thead th {\n",
              "        text-align: right;\n",
              "    }\n",
              "</style>\n",
              "<table border=\"1\" class=\"dataframe\">\n",
              "  <thead>\n",
              "    <tr style=\"text-align: right;\">\n",
              "      <th></th>\n",
              "      <th>Sentence #</th>\n",
              "      <th>Word</th>\n",
              "      <th>POS</th>\n",
              "      <th>Tag</th>\n",
              "    </tr>\n",
              "  </thead>\n",
              "  <tbody>\n",
              "    <tr>\n",
              "      <th>0</th>\n",
              "      <td>Sentence: 1</td>\n",
              "      <td>thousands</td>\n",
              "      <td>NNS</td>\n",
              "      <td>O</td>\n",
              "    </tr>\n",
              "    <tr>\n",
              "      <th>1</th>\n",
              "      <td>Sentence: 1</td>\n",
              "      <td>of</td>\n",
              "      <td>IN</td>\n",
              "      <td>O</td>\n",
              "    </tr>\n",
              "    <tr>\n",
              "      <th>2</th>\n",
              "      <td>Sentence: 1</td>\n",
              "      <td>demonstrators</td>\n",
              "      <td>NNS</td>\n",
              "      <td>O</td>\n",
              "    </tr>\n",
              "    <tr>\n",
              "      <th>3</th>\n",
              "      <td>Sentence: 1</td>\n",
              "      <td>have</td>\n",
              "      <td>VBP</td>\n",
              "      <td>O</td>\n",
              "    </tr>\n",
              "    <tr>\n",
              "      <th>4</th>\n",
              "      <td>Sentence: 1</td>\n",
              "      <td>marched</td>\n",
              "      <td>VBN</td>\n",
              "      <td>O</td>\n",
              "    </tr>\n",
              "  </tbody>\n",
              "</table>\n",
              "</div>\n",
              "      <button class=\"colab-df-convert\" onclick=\"convertToInteractive('df-b436afbc-3fd5-4af8-90dd-547705beac54')\"\n",
              "              title=\"Convert this dataframe to an interactive table.\"\n",
              "              style=\"display:none;\">\n",
              "        \n",
              "  <svg xmlns=\"http://www.w3.org/2000/svg\" height=\"24px\"viewBox=\"0 0 24 24\"\n",
              "       width=\"24px\">\n",
              "    <path d=\"M0 0h24v24H0V0z\" fill=\"none\"/>\n",
              "    <path d=\"M18.56 5.44l.94 2.06.94-2.06 2.06-.94-2.06-.94-.94-2.06-.94 2.06-2.06.94zm-11 1L8.5 8.5l.94-2.06 2.06-.94-2.06-.94L8.5 2.5l-.94 2.06-2.06.94zm10 10l.94 2.06.94-2.06 2.06-.94-2.06-.94-.94-2.06-.94 2.06-2.06.94z\"/><path d=\"M17.41 7.96l-1.37-1.37c-.4-.4-.92-.59-1.43-.59-.52 0-1.04.2-1.43.59L10.3 9.45l-7.72 7.72c-.78.78-.78 2.05 0 2.83L4 21.41c.39.39.9.59 1.41.59.51 0 1.02-.2 1.41-.59l7.78-7.78 2.81-2.81c.8-.78.8-2.07 0-2.86zM5.41 20L4 18.59l7.72-7.72 1.47 1.35L5.41 20z\"/>\n",
              "  </svg>\n",
              "      </button>\n",
              "      \n",
              "  <style>\n",
              "    .colab-df-container {\n",
              "      display:flex;\n",
              "      flex-wrap:wrap;\n",
              "      gap: 12px;\n",
              "    }\n",
              "\n",
              "    .colab-df-convert {\n",
              "      background-color: #E8F0FE;\n",
              "      border: none;\n",
              "      border-radius: 50%;\n",
              "      cursor: pointer;\n",
              "      display: none;\n",
              "      fill: #1967D2;\n",
              "      height: 32px;\n",
              "      padding: 0 0 0 0;\n",
              "      width: 32px;\n",
              "    }\n",
              "\n",
              "    .colab-df-convert:hover {\n",
              "      background-color: #E2EBFA;\n",
              "      box-shadow: 0px 1px 2px rgba(60, 64, 67, 0.3), 0px 1px 3px 1px rgba(60, 64, 67, 0.15);\n",
              "      fill: #174EA6;\n",
              "    }\n",
              "\n",
              "    [theme=dark] .colab-df-convert {\n",
              "      background-color: #3B4455;\n",
              "      fill: #D2E3FC;\n",
              "    }\n",
              "\n",
              "    [theme=dark] .colab-df-convert:hover {\n",
              "      background-color: #434B5C;\n",
              "      box-shadow: 0px 1px 3px 1px rgba(0, 0, 0, 0.15);\n",
              "      filter: drop-shadow(0px 1px 2px rgba(0, 0, 0, 0.3));\n",
              "      fill: #FFFFFF;\n",
              "    }\n",
              "  </style>\n",
              "\n",
              "      <script>\n",
              "        const buttonEl =\n",
              "          document.querySelector('#df-b436afbc-3fd5-4af8-90dd-547705beac54 button.colab-df-convert');\n",
              "        buttonEl.style.display =\n",
              "          google.colab.kernel.accessAllowed ? 'block' : 'none';\n",
              "\n",
              "        async function convertToInteractive(key) {\n",
              "          const element = document.querySelector('#df-b436afbc-3fd5-4af8-90dd-547705beac54');\n",
              "          const dataTable =\n",
              "            await google.colab.kernel.invokeFunction('convertToInteractive',\n",
              "                                                     [key], {});\n",
              "          if (!dataTable) return;\n",
              "\n",
              "          const docLinkHtml = 'Like what you see? Visit the ' +\n",
              "            '<a target=\"_blank\" href=https://colab.research.google.com/notebooks/data_table.ipynb>data table notebook</a>'\n",
              "            + ' to learn more about interactive tables.';\n",
              "          element.innerHTML = '';\n",
              "          dataTable['output_type'] = 'display_data';\n",
              "          await google.colab.output.renderOutput(dataTable, element);\n",
              "          const docLink = document.createElement('div');\n",
              "          docLink.innerHTML = docLinkHtml;\n",
              "          element.appendChild(docLink);\n",
              "        }\n",
              "      </script>\n",
              "    </div>\n",
              "  </div>\n",
              "  "
            ]
          },
          "metadata": {},
          "execution_count": 18
        }
      ]
    },
    {
      "cell_type": "code",
      "source": [
        "func = lambda temp: [(w, t) for w, t in zip(temp['Word'].values.tolist(),\n",
        "                                            temp['Tag'].values.tolist())]\n",
        "tagged_sentences = [t for t in data.groupby('Sentence #').apply(func)]\n",
        "print('전체 샘플 개수 : {}'.format(len(tagged_sentences)))"
      ],
      "metadata": {
        "colab": {
          "base_uri": "https://localhost:8080/"
        },
        "id": "_aUOuK2-JKsg",
        "outputId": "f4ebfcb3-079d-4844-cf40-f69f23a78f72"
      },
      "execution_count": 19,
      "outputs": [
        {
          "output_type": "stream",
          "name": "stdout",
          "text": [
            "전체 샘플 개수 : 47959\n"
          ]
        }
      ]
    },
    {
      "cell_type": "code",
      "source": [
        "tagged_sentences[0]"
      ],
      "metadata": {
        "colab": {
          "base_uri": "https://localhost:8080/"
        },
        "id": "tA2v9I4fJpzQ",
        "outputId": "eefa6ab4-7e8c-426a-a34d-2c90d450b047"
      },
      "execution_count": 20,
      "outputs": [
        {
          "output_type": "execute_result",
          "data": {
            "text/plain": [
              "[('thousands', 'O'),\n",
              " ('of', 'O'),\n",
              " ('demonstrators', 'O'),\n",
              " ('have', 'O'),\n",
              " ('marched', 'O'),\n",
              " ('through', 'O'),\n",
              " ('london', 'B-geo'),\n",
              " ('to', 'O'),\n",
              " ('protest', 'O'),\n",
              " ('the', 'O'),\n",
              " ('war', 'O'),\n",
              " ('in', 'O'),\n",
              " ('iraq', 'B-geo'),\n",
              " ('and', 'O'),\n",
              " ('demand', 'O'),\n",
              " ('the', 'O'),\n",
              " ('withdrawal', 'O'),\n",
              " ('of', 'O'),\n",
              " ('british', 'B-gpe'),\n",
              " ('troops', 'O'),\n",
              " ('from', 'O'),\n",
              " ('that', 'O'),\n",
              " ('country', 'O'),\n",
              " ('.', 'O')]"
            ]
          },
          "metadata": {},
          "execution_count": 20
        }
      ]
    },
    {
      "cell_type": "code",
      "source": [
        "sentences, ner_tags = [], []\n",
        "for tagged_sentence in tagged_sentences:\n",
        "  sentence, tag_info = zip(*tagged_sentence)\n",
        "  sentences.append(list(sentence))\n",
        "  ner_tags.append(list(tag_info))"
      ],
      "metadata": {
        "id": "nSZUGFL5J0DX"
      },
      "execution_count": 21,
      "outputs": []
    },
    {
      "cell_type": "code",
      "source": [
        "print('문장 토큰 개수 : {}'.format(len(sentences[125])))\n",
        "print('문장 토큰')\n",
        "print(sentences[125])\n",
        "print('태깅 토큰 개수 : {}'.format(len(ner_tags[125])))\n",
        "print('태킹 토큰')\n",
        "print(ner_tags[125])"
      ],
      "metadata": {
        "colab": {
          "base_uri": "https://localhost:8080/"
        },
        "id": "8gBC4D-AKFun",
        "outputId": "c4c3e63b-62d8-445c-dea2-82ae9d98ef73"
      },
      "execution_count": 23,
      "outputs": [
        {
          "output_type": "stream",
          "name": "stdout",
          "text": [
            "문장 토큰 개수 : 25\n",
            "문장 토큰\n",
            "['health', 'experts', 'predicted', 'the', 'number', 'of', 'people', 'who', 'die', 'from', 'cancer', 'will', 'soon', 'be', 'greater', 'than', 'deaths', 'from', 'aids', ',', 'tuberculosis', 'and', 'malaria', 'combined', '.']\n",
            "태깅 토큰 개수 : 25\n",
            "태킹 토큰\n",
            "['O', 'O', 'O', 'O', 'O', 'O', 'O', 'O', 'O', 'O', 'O', 'O', 'O', 'O', 'O', 'O', 'O', 'O', 'B-nat', 'O', 'O', 'O', 'O', 'O', 'O']\n"
          ]
        }
      ]
    },
    {
      "cell_type": "code",
      "source": [
        "print('샘플의 최대 길이 : %d' % max(len(l) for l in sentences))\n",
        "print('샘플의 평균 길이 : %f' % (sum(map(len, sentences)) / len(sentences)))\n",
        "plt.hist([len(s) for s in sentences], bins=50)\n",
        "plt.xlabel('length of samples')\n",
        "plt.ylabel('number of samples')\n",
        "plt.show()"
      ],
      "metadata": {
        "colab": {
          "base_uri": "https://localhost:8080/",
          "height": 485
        },
        "id": "-2aNMGwTKaTw",
        "outputId": "7303cb16-a367-4ddd-e394-8862e8fee4e0"
      },
      "execution_count": 24,
      "outputs": [
        {
          "output_type": "stream",
          "name": "stdout",
          "text": [
            "샘플의 최대 길이 : 104\n",
            "샘플의 평균 길이 : 21.863988\n"
          ]
        },
        {
          "output_type": "display_data",
          "data": {
            "text/plain": [
              "<Figure size 640x480 with 1 Axes>"
            ],
            "image/png": "[encoded data removed]"
          },
          "metadata": {}
        }
      ]
    },
    {
      "cell_type": "code",
      "source": [
        "src_tokenizer = Tokenizer(oov_token='OOV')\n",
        "tar_tokenizer = Tokenizer(lower=False)\n",
        "\n",
        "src_tokenizer.fit_on_texts(sentences)\n",
        "tar_tokenizer.fit_on_texts(ner_tags)"
      ],
      "metadata": {
        "id": "GWNQZtzHLBLp"
      },
      "execution_count": 26,
      "outputs": []
    },
    {
      "cell_type": "code",
      "source": [
        "vocab_size = len(src_tokenizer.word_index)+1\n",
        "tag_size = len(tar_tokenizer.word_index)+1\n",
        "print('단어 집합의 크기 {}'.format(vocab_size))\n",
        "print('개체명 태깅 정보 집합의 크기 : {}'.format(tag_size))"
      ],
      "metadata": {
        "colab": {
          "base_uri": "https://localhost:8080/"
        },
        "id": "OEcsJM7ALP44",
        "outputId": "a6aafc46-27b3-4758-ad8a-f2baf3ba84ec"
      },
      "execution_count": 27,
      "outputs": [
        {
          "output_type": "stream",
          "name": "stdout",
          "text": [
            "단어 집합의 크기 31819\n",
            "개체명 태깅 정보 집합의 크기 : 18\n"
          ]
        }
      ]
    },
    {
      "cell_type": "code",
      "source": [
        "src_tokenizer.word_index"
      ],
      "metadata": {
        "colab": {
          "base_uri": "https://localhost:8080/"
        },
        "id": "IaUZ2zMZPbz4",
        "outputId": "74c5b62f-865a-4a74-88e8-daca1597475a"
      },
      "execution_count": 39,
      "outputs": [
        {
          "output_type": "execute_result",
          "data": {
            "text/plain": [
              "{'OOV': 1,\n",
              " 'the': 2,\n",
              " '.': 3,\n",
              " ',': 4,\n",
              " 'in': 5,\n",
              " 'of': 6,\n",
              " 'to': 7,\n",
              " 'a': 8,\n",
              " 'and': 9,\n",
              " \"'s\": 10,\n",
              " 'for': 11,\n",
              " 'has': 12,\n",
              " 'on': 13,\n",
              " 'is': 14,\n",
              " 'that': 15,\n",
              " 'have': 16,\n",
              " 'with': 17,\n",
              " 'said': 18,\n",
              " 'was': 19,\n",
              " 'at': 20,\n",
              " 'says': 21,\n",
              " 'from': 22,\n",
              " 'by': 23,\n",
              " 'he': 24,\n",
              " 'an': 25,\n",
              " 'as': 26,\n",
              " 'say': 27,\n",
              " 'u.s.': 28,\n",
              " 'it': 29,\n",
              " 'are': 30,\n",
              " '\"': 31,\n",
              " 'were': 32,\n",
              " 'his': 33,\n",
              " 'will': 34,\n",
              " 'president': 35,\n",
              " 'officials': 36,\n",
              " 'government': 37,\n",
              " 'mr.': 38,\n",
              " 'been': 39,\n",
              " 'killed': 40,\n",
              " 'two': 41,\n",
              " 'people': 42,\n",
              " 'after': 43,\n",
              " 'not': 44,\n",
              " 'its': 45,\n",
              " 'be': 46,\n",
              " 'but': 47,\n",
              " 'they': 48,\n",
              " 'more': 49,\n",
              " 'also': 50,\n",
              " 'new': 51,\n",
              " 'united': 52,\n",
              " 'military': 53,\n",
              " 'who': 54,\n",
              " 'last': 55,\n",
              " 'country': 56,\n",
              " 'than': 57,\n",
              " 'minister': 58,\n",
              " 'police': 59,\n",
              " 'their': 60,\n",
              " 'iraq': 61,\n",
              " 'one': 62,\n",
              " 'which': 63,\n",
              " 'security': 64,\n",
              " 'this': 65,\n",
              " 'about': 66,\n",
              " 'year': 67,\n",
              " 'other': 68,\n",
              " 'had': 69,\n",
              " 'states': 70,\n",
              " 'least': 71,\n",
              " 'tuesday': 72,\n",
              " 'since': 73,\n",
              " 'forces': 74,\n",
              " 'world': 75,\n",
              " 'thursday': 76,\n",
              " 'week': 77,\n",
              " 'group': 78,\n",
              " 'iran': 79,\n",
              " 'over': 80,\n",
              " 'state': 81,\n",
              " 'friday': 82,\n",
              " 'monday': 83,\n",
              " 'wednesday': 84,\n",
              " 'against': 85,\n",
              " 'three': 86,\n",
              " 'during': 87,\n",
              " 'when': 88,\n",
              " 'sunday': 89,\n",
              " 'troops': 90,\n",
              " 'authorities': 91,\n",
              " '-': 92,\n",
              " 'into': 93,\n",
              " 'saturday': 94,\n",
              " 'would': 95,\n",
              " 'iraqi': 96,\n",
              " '$': 97,\n",
              " 'prime': 98,\n",
              " 'city': 99,\n",
              " 'foreign': 100,\n",
              " 'first': 101,\n",
              " 'some': 102,\n",
              " 'oil': 103,\n",
              " 'international': 104,\n",
              " 'nuclear': 105,\n",
              " 'attacks': 106,\n",
              " 'out': 107,\n",
              " 'militants': 108,\n",
              " 'up': 109,\n",
              " 'between': 110,\n",
              " 'month': 111,\n",
              " 'afghanistan': 112,\n",
              " 'nations': 113,\n",
              " 'former': 114,\n",
              " 'china': 115,\n",
              " 'years': 116,\n",
              " 'south': 117,\n",
              " 'palestinian': 118,\n",
              " 'talks': 119,\n",
              " 'attack': 120,\n",
              " 'israeli': 121,\n",
              " 'no': 122,\n",
              " 'bush': 123,\n",
              " 'israel': 124,\n",
              " 'called': 125,\n",
              " 'province': 126,\n",
              " 'or': 127,\n",
              " 'several': 128,\n",
              " 'war': 129,\n",
              " 'leader': 130,\n",
              " 'north': 131,\n",
              " 'near': 132,\n",
              " 'pakistan': 133,\n",
              " 'million': 134,\n",
              " 'southern': 135,\n",
              " 'region': 136,\n",
              " 'u.n.': 137,\n",
              " 'earlier': 138,\n",
              " 'there': 139,\n",
              " 'afghan': 140,\n",
              " 'countries': 141,\n",
              " 'including': 142,\n",
              " 'agency': 143,\n",
              " 'report': 144,\n",
              " 'party': 145,\n",
              " 'could': 146,\n",
              " 'saying': 147,\n",
              " 'four': 148,\n",
              " 'elections': 149,\n",
              " 'soldiers': 150,\n",
              " 'baghdad': 151,\n",
              " 'news': 152,\n",
              " 'all': 153,\n",
              " 'under': 154,\n",
              " 'national': 155,\n",
              " 'violence': 156,\n",
              " 'official': 157,\n",
              " 'reports': 158,\n",
              " 'economic': 159,\n",
              " 'political': 160,\n",
              " 'spokesman': 161,\n",
              " 'european': 162,\n",
              " 'capital': 163,\n",
              " 'before': 164,\n",
              " 'if': 165,\n",
              " 'statement': 166,\n",
              " 'leaders': 167,\n",
              " 'wounded': 168,\n",
              " 'court': 169,\n",
              " 'rebels': 170,\n",
              " 'bomb': 171,\n",
              " 'day': 172,\n",
              " 'told': 173,\n",
              " 'him': 174,\n",
              " 'percent': 175,\n",
              " 'american': 176,\n",
              " 'union': 177,\n",
              " ')': 178,\n",
              " '(': 179,\n",
              " 'where': 180,\n",
              " 'made': 181,\n",
              " 'election': 182,\n",
              " 'members': 183,\n",
              " 'peace': 184,\n",
              " 'part': 185,\n",
              " 'british': 186,\n",
              " 'most': 187,\n",
              " 'her': 188,\n",
              " 'while': 189,\n",
              " 'others': 190,\n",
              " 'may': 191,\n",
              " 'next': 192,\n",
              " 'because': 193,\n",
              " 'them': 194,\n",
              " 'border': 195,\n",
              " 'five': 196,\n",
              " 'program': 197,\n",
              " 'rights': 198,\n",
              " 'many': 199,\n",
              " 'expected': 200,\n",
              " 'russia': 201,\n",
              " 'died': 202,\n",
              " 'meeting': 203,\n",
              " 'fighting': 204,\n",
              " 'health': 205,\n",
              " 'economy': 206,\n",
              " 'killing': 207,\n",
              " 'house': 208,\n",
              " 'opposition': 209,\n",
              " 'another': 210,\n",
              " 'being': 211,\n",
              " 'human': 212,\n",
              " 'those': 213,\n",
              " 'what': 214,\n",
              " 'flu': 215,\n",
              " 'late': 216,\n",
              " 'held': 217,\n",
              " 'recent': 218,\n",
              " 'ministry': 219,\n",
              " 'northern': 220,\n",
              " 'she': 221,\n",
              " 'general': 222,\n",
              " 'insurgents': 223,\n",
              " 'taleban': 224,\n",
              " 'washington': 225,\n",
              " 'help': 226,\n",
              " 'gaza': 227,\n",
              " 'suspected': 228,\n",
              " 'down': 229,\n",
              " 'days': 230,\n",
              " 'released': 231,\n",
              " 'time': 232,\n",
              " 'town': 233,\n",
              " 'top': 234,\n",
              " 'bird': 235,\n",
              " 'western': 236,\n",
              " 'russian': 237,\n",
              " 'through': 238,\n",
              " 'power': 239,\n",
              " 'india': 240,\n",
              " 'weapons': 241,\n",
              " 'army': 242,\n",
              " 'korea': 243,\n",
              " 'later': 244,\n",
              " 'groups': 245,\n",
              " 'any': 246,\n",
              " 'can': 247,\n",
              " 'parliament': 248,\n",
              " 'men': 249,\n",
              " 'death': 250,\n",
              " 'nearly': 251,\n",
              " 'area': 252,\n",
              " 'off': 253,\n",
              " 'thousands': 254,\n",
              " 'announced': 255,\n",
              " 'coalition': 256,\n",
              " 'vote': 257,\n",
              " 'accused': 258,\n",
              " 'defense': 259,\n",
              " 'reported': 260,\n",
              " 'aid': 261,\n",
              " 'early': 262,\n",
              " 'only': 263,\n",
              " 'six': 264,\n",
              " 'following': 265,\n",
              " 'nato': 266,\n",
              " 'bank': 267,\n",
              " 'central': 268,\n",
              " 'found': 269,\n",
              " 'pakistani': 270,\n",
              " 'council': 271,\n",
              " 'west': 272,\n",
              " 'support': 273,\n",
              " 'set': 274,\n",
              " 'arrested': 275,\n",
              " 'chief': 276,\n",
              " 'number': 277,\n",
              " 'end': 278,\n",
              " 'organization': 279,\n",
              " 'militant': 280,\n",
              " 'meanwhile': 281,\n",
              " 'chinese': 282,\n",
              " 'second': 283,\n",
              " 'charges': 284,\n",
              " 'both': 285,\n",
              " 'plan': 286,\n",
              " 'african': 287,\n",
              " 'took': 288,\n",
              " 'began': 289,\n",
              " 'visit': 290,\n",
              " 'among': 291,\n",
              " 'months': 292,\n",
              " '10': 293,\n",
              " '%': 294,\n",
              " 'al-qaida': 295,\n",
              " 'force': 296,\n",
              " 'agreement': 297,\n",
              " 'major': 298,\n",
              " 'trade': 299,\n",
              " 'take': 300,\n",
              " 'such': 301,\n",
              " 'efforts': 302,\n",
              " 'company': 303,\n",
              " 'suicide': 304,\n",
              " 'prices': 305,\n",
              " 'local': 306,\n",
              " 'home': 307,\n",
              " \"'\": 308,\n",
              " 'french': 309,\n",
              " 'did': 310,\n",
              " 'high': 311,\n",
              " 'workers': 312,\n",
              " 'energy': 313,\n",
              " 'secretary': 314,\n",
              " 'islamic': 315,\n",
              " 'eastern': 316,\n",
              " 'hamas': 317,\n",
              " 'media': 318,\n",
              " 'car': 319,\n",
              " 'man': 320,\n",
              " 'presidential': 321,\n",
              " 'came': 322,\n",
              " 'january': 323,\n",
              " 'now': 324,\n",
              " 'should': 325,\n",
              " 'still': 326,\n",
              " 'iranian': 327,\n",
              " 'department': 328,\n",
              " 'place': 329,\n",
              " 'plans': 330,\n",
              " 'east': 331,\n",
              " 'public': 332,\n",
              " 'billion': 333,\n",
              " 'sudan': 334,\n",
              " 'japan': 335,\n",
              " 'eu': 336,\n",
              " 'chavez': 337,\n",
              " 'venezuela': 338,\n",
              " 'deal': 339,\n",
              " 'democratic': 340,\n",
              " 'work': 341,\n",
              " 'dead': 342,\n",
              " 'used': 343,\n",
              " 'turkey': 344,\n",
              " 'food': 345,\n",
              " 'until': 346,\n",
              " 'terrorist': 347,\n",
              " 'africa': 348,\n",
              " 'control': 349,\n",
              " 'virus': 350,\n",
              " 'meet': 351,\n",
              " 'growth': 352,\n",
              " 'past': 353,\n",
              " '2003': 354,\n",
              " 'ago': 355,\n",
              " 'nation': 356,\n",
              " 'tehran': 357,\n",
              " 'blast': 358,\n",
              " 'muslim': 359,\n",
              " 'weeks': 360,\n",
              " 'fire': 361,\n",
              " 'newspaper': 362,\n",
              " 'met': 363,\n",
              " 'march': 364,\n",
              " 'britain': 365,\n",
              " 'indian': 366,\n",
              " 'seven': 367,\n",
              " 'hit': 368,\n",
              " 'make': 369,\n",
              " 'darfur': 370,\n",
              " 'reporters': 371,\n",
              " 'office': 372,\n",
              " 'detained': 373,\n",
              " 'confirmed': 374,\n",
              " 'left': 375,\n",
              " '20': 376,\n",
              " \"shi'ite\": 377,\n",
              " 'global': 378,\n",
              " 'outside': 379,\n",
              " 'france': 380,\n",
              " 'head': 381,\n",
              " 'burma': 382,\n",
              " 'across': 383,\n",
              " 'beijing': 384,\n",
              " 'civilians': 385,\n",
              " 'white': 386,\n",
              " 'agreed': 387,\n",
              " 'september': 388,\n",
              " 'known': 389,\n",
              " 'continue': 390,\n",
              " 'gunmen': 391,\n",
              " 'just': 392,\n",
              " 'december': 393,\n",
              " 'areas': 394,\n",
              " 'so': 395,\n",
              " 'prison': 396,\n",
              " 'information': 397,\n",
              " 'well': 398,\n",
              " 'around': 399,\n",
              " 'along': 400,\n",
              " 'release': 401,\n",
              " 'gas': 402,\n",
              " 'scheduled': 403,\n",
              " 'development': 404,\n",
              " 'lebanon': 405,\n",
              " 'financial': 406,\n",
              " 'island': 407,\n",
              " 'children': 408,\n",
              " 'coast': 409,\n",
              " 'rebel': 410,\n",
              " 'signed': 411,\n",
              " 'issued': 412,\n",
              " 'hundreds': 413,\n",
              " 'lawmakers': 414,\n",
              " 'led': 415,\n",
              " 'stop': 416,\n",
              " 'administration': 417,\n",
              " 'suspects': 418,\n",
              " 'eight': 419,\n",
              " 'syria': 420,\n",
              " '30': 421,\n",
              " 'protests': 422,\n",
              " 'television': 423,\n",
              " 'must': 424,\n",
              " 'women': 425,\n",
              " '15': 426,\n",
              " 'separate': 427,\n",
              " 'use': 428,\n",
              " 'kilometers': 429,\n",
              " 'trying': 430,\n",
              " 'claimed': 431,\n",
              " 'july': 432,\n",
              " 'without': 433,\n",
              " 'law': 434,\n",
              " 'germany': 435,\n",
              " 'back': 436,\n",
              " 'do': 437,\n",
              " 'intelligence': 438,\n",
              " 'constitution': 439,\n",
              " 'operations': 440,\n",
              " 'however': 441,\n",
              " 'victims': 442,\n",
              " 'independence': 443,\n",
              " 'europe': 444,\n",
              " 'incident': 445,\n",
              " 'officers': 446,\n",
              " 'york': 447,\n",
              " 'air': 448,\n",
              " 'include': 449,\n",
              " 'somalia': 450,\n",
              " 'discuss': 451,\n",
              " 'parliamentary': 452,\n",
              " 'korean': 453,\n",
              " 'system': 454,\n",
              " 'conference': 455,\n",
              " '11': 456,\n",
              " 'november': 457,\n",
              " 'largest': 458,\n",
              " 'main': 459,\n",
              " 'series': 460,\n",
              " 'aimed': 461,\n",
              " 'taliban': 462,\n",
              " 'fired': 463,\n",
              " 'third': 464,\n",
              " 'decision': 465,\n",
              " 'return': 466,\n",
              " 'republic': 467,\n",
              " 'london': 468,\n",
              " 'february': 469,\n",
              " 'egypt': 470,\n",
              " 'key': 471,\n",
              " 'operation': 472,\n",
              " 'responsibility': 473,\n",
              " 'shot': 474,\n",
              " 'hurricane': 475,\n",
              " 'crisis': 476,\n",
              " 'commission': 477,\n",
              " 'large': 478,\n",
              " 'member': 479,\n",
              " 'investigation': 480,\n",
              " 'center': 481,\n",
              " 'despite': 482,\n",
              " 'possible': 483,\n",
              " 'ruling': 484,\n",
              " 'strip': 485,\n",
              " 'ahead': 486,\n",
              " 'civil': 487,\n",
              " 'august': 488,\n",
              " 'calls': 489,\n",
              " 'urged': 490,\n",
              " 'soldier': 491,\n",
              " 'service': 492,\n",
              " 'hold': 493,\n",
              " 'move': 494,\n",
              " 'june': 495,\n",
              " 'mission': 496,\n",
              " 'alleged': 497,\n",
              " 'taken': 498,\n",
              " 'won': 499,\n",
              " '2008': 500,\n",
              " 'deadly': 501,\n",
              " 'team': 502,\n",
              " 'today': 503,\n",
              " 'october': 504,\n",
              " 'abbas': 505,\n",
              " 'summit': 506,\n",
              " 'conflict': 507,\n",
              " 'process': 508,\n",
              " 'obama': 509,\n",
              " 'hospital': 510,\n",
              " 'crimes': 511,\n",
              " 'bombings': 512,\n",
              " 'trial': 513,\n",
              " '2004': 514,\n",
              " 'how': 515,\n",
              " 'venezuelan': 516,\n",
              " 'free': 517,\n",
              " 'final': 518,\n",
              " 'relations': 519,\n",
              " 'then': 520,\n",
              " 'small': 521,\n",
              " 'injured': 522,\n",
              " 'protest': 523,\n",
              " 'close': 524,\n",
              " 'prisoners': 525,\n",
              " 'base': 526,\n",
              " 'case': 527,\n",
              " 'sanctions': 528,\n",
              " 'congress': 529,\n",
              " 'voa': 530,\n",
              " 'roadside': 531,\n",
              " 'remain': 532,\n",
              " 'each': 533,\n",
              " 'increase': 534,\n",
              " 'cuba': 535,\n",
              " 'terrorism': 536,\n",
              " 'way': 537,\n",
              " 'mahmoud': 538,\n",
              " 'fuel': 539,\n",
              " 'comes': 540,\n",
              " 'district': 541,\n",
              " '2001': 542,\n",
              " 'latest': 543,\n",
              " 'senior': 544,\n",
              " 'warned': 545,\n",
              " 'much': 546,\n",
              " 'cases': 547,\n",
              " '12': 548,\n",
              " 'approved': 549,\n",
              " 'market': 550,\n",
              " 'rice': 551,\n",
              " 'press': 552,\n",
              " 'palestinians': 553,\n",
              " 'explosion': 554,\n",
              " 'armed': 555,\n",
              " 'effort': 556,\n",
              " 'building': 557,\n",
              " 'same': 558,\n",
              " 'storm': 559,\n",
              " 'water': 560,\n",
              " 'arab': 561,\n",
              " 'john': 562,\n",
              " 'u.s.-led': 563,\n",
              " 'companies': 564,\n",
              " 'turkish': 565,\n",
              " 'campaign': 566,\n",
              " 'carried': 567,\n",
              " 'kurdish': 568,\n",
              " 'production': 569,\n",
              " 'colombia': 570,\n",
              " 'demand': 571,\n",
              " 'show': 572,\n",
              " 'deaths': 573,\n",
              " 'denied': 574,\n",
              " 'federal': 575,\n",
              " 'whether': 576,\n",
              " 'strike': 577,\n",
              " 'working': 578,\n",
              " 'indonesia': 579,\n",
              " 'asia': 580,\n",
              " 'already': 581,\n",
              " 'allow': 582,\n",
              " '2010': 583,\n",
              " 'face': 584,\n",
              " 'hours': 585,\n",
              " 'caused': 586,\n",
              " 'remains': 587,\n",
              " 'protesters': 588,\n",
              " 'bombing': 589,\n",
              " 'money': 590,\n",
              " 'calling': 591,\n",
              " 'attacked': 592,\n",
              " 'results': 593,\n",
              " 'h5n1': 594,\n",
              " 'lebanese': 595,\n",
              " 'failed': 596,\n",
              " 'bomber': 597,\n",
              " 'does': 598,\n",
              " 'recently': 599,\n",
              " 'emergency': 600,\n",
              " 'site': 601,\n",
              " 'cut': 602,\n",
              " 'ukraine': 603,\n",
              " '50': 604,\n",
              " 'clear': 605,\n",
              " 'kidnapped': 606,\n",
              " 'rejected': 607,\n",
              " 'committee': 608,\n",
              " 'pope': 609,\n",
              " 'ordered': 610,\n",
              " 'moscow': 611,\n",
              " 'due': 612,\n",
              " 'issues': 613,\n",
              " 'sent': 614,\n",
              " 'saudi': 615,\n",
              " '2006': 616,\n",
              " '2009': 617,\n",
              " ';': 618,\n",
              " 'majority': 619,\n",
              " 'station': 620,\n",
              " 'drug': 621,\n",
              " 'bill': 622,\n",
              " 'within': 623,\n",
              " 'record': 624,\n",
              " 'sector': 625,\n",
              " 'expressed': 626,\n",
              " 'action': 627,\n",
              " 'residents': 628,\n",
              " 'witnesses': 629,\n",
              " 'give': 630,\n",
              " 'embassy': 631,\n",
              " '25': 632,\n",
              " 'arrest': 633,\n",
              " 'mexico': 634,\n",
              " 'you': 635,\n",
              " 'japanese': 636,\n",
              " 'post': 637,\n",
              " 'ban': 638,\n",
              " 'sunni': 639,\n",
              " 'middle': 640,\n",
              " 'strain': 641,\n",
              " 'opened': 642,\n",
              " 'relief': 643,\n",
              " 'further': 644,\n",
              " 'disease': 645,\n",
              " 'kashmir': 646,\n",
              " 'term': 647,\n",
              " 'policy': 648,\n",
              " 'occurred': 649,\n",
              " 'carrying': 650,\n",
              " '100': 651,\n",
              " 'islands': 652,\n",
              " 'future': 653,\n",
              " 'seized': 654,\n",
              " 'planned': 655,\n",
              " 'ministers': 656,\n",
              " 'concerns': 657,\n",
              " 'taking': 658,\n",
              " 'us': 659,\n",
              " 'family': 660,\n",
              " 'increased': 661,\n",
              " 'neighboring': 662,\n",
              " 'come': 663,\n",
              " 'fighters': 664,\n",
              " 'exports': 665,\n",
              " 'german': 666,\n",
              " 'americans': 667,\n",
              " 'asked': 668,\n",
              " 'launched': 669,\n",
              " 'territory': 670,\n",
              " 'supporters': 671,\n",
              " 'justice': 672,\n",
              " 'vehicle': 673,\n",
              " 'call': 674,\n",
              " 'criticized': 675,\n",
              " 'april': 676,\n",
              " 'captured': 677,\n",
              " 'saddam': 678,\n",
              " 'radio': 679,\n",
              " 'ethnic': 680,\n",
              " 'birds': 681,\n",
              " 'movement': 682,\n",
              " 'corruption': 683,\n",
              " 'taiwan': 684,\n",
              " 'ended': 685,\n",
              " 'heavy': 686,\n",
              " 'nine': 687,\n",
              " 'cabinet': 688,\n",
              " 'involved': 689,\n",
              " 'leading': 690,\n",
              " 'role': 691,\n",
              " 'woman': 692,\n",
              " 'homes': 693,\n",
              " 'strong': 694,\n",
              " 'long': 695,\n",
              " 'civilian': 696,\n",
              " 'king': 697,\n",
              " 'camp': 698,\n",
              " '2002': 699,\n",
              " 'cooperation': 700,\n",
              " 'situation': 701,\n",
              " 'i': 702,\n",
              " 'independent': 703,\n",
              " 'charged': 704,\n",
              " '2007': 705,\n",
              " 'vice': 706,\n",
              " 'parties': 707,\n",
              " 'put': 708,\n",
              " 'begin': 709,\n",
              " 'nigeria': 710,\n",
              " '40': 711,\n",
              " 'haiti': 712,\n",
              " 'democracy': 713,\n",
              " 'ties': 714,\n",
              " 'trip': 715,\n",
              " 'half': 716,\n",
              " 'became': 717,\n",
              " 'own': 718,\n",
              " 'regional': 719,\n",
              " 'space': 720,\n",
              " 'deputy': 721,\n",
              " 'spain': 722,\n",
              " 'go': 723,\n",
              " 'experts': 724,\n",
              " 'problems': 725,\n",
              " '2005': 726,\n",
              " 'outbreak': 727,\n",
              " 'judge': 728,\n",
              " 'commander': 729,\n",
              " 'blamed': 730,\n",
              " 'syrian': 731,\n",
              " 'ms.': 732,\n",
              " 'gdp': 733,\n",
              " 'special': 734,\n",
              " 'poor': 735,\n",
              " 'went': 736,\n",
              " 'labor': 737,\n",
              " 'open': 738,\n",
              " 'comments': 739,\n",
              " 'land': 740,\n",
              " 'believed': 741,\n",
              " 'forced': 742,\n",
              " 'candidate': 743,\n",
              " 'business': 744,\n",
              " 'issue': 745,\n",
              " 'continued': 746,\n",
              " 'missing': 747,\n",
              " 'provide': 748,\n",
              " 'details': 749,\n",
              " 'joint': 750,\n",
              " 'america': 751,\n",
              " 'current': 752,\n",
              " 'ambassador': 753,\n",
              " 'activities': 754,\n",
              " 'exploded': 755,\n",
              " 'lead': 756,\n",
              " 'medical': 757,\n",
              " 'negotiations': 758,\n",
              " 'detainees': 759,\n",
              " 'times': 760,\n",
              " 'uranium': 761,\n",
              " 'become': 762,\n",
              " 'making': 763,\n",
              " 'senate': 764,\n",
              " 'speaking': 765,\n",
              " 'get': 766,\n",
              " 'tribal': 767,\n",
              " 'services': 768,\n",
              " 'fight': 769,\n",
              " 'musharraf': 770,\n",
              " 'parts': 771,\n",
              " 'threat': 772,\n",
              " 'community': 773,\n",
              " 'far': 774,\n",
              " 'missile': 775,\n",
              " 'bodies': 776,\n",
              " 'order': 777,\n",
              " 'price': 778,\n",
              " 'want': 779,\n",
              " 'industry': 780,\n",
              " 'egyptian': 781,\n",
              " '14': 782,\n",
              " 'change': 783,\n",
              " 'illegal': 784,\n",
              " 'per': 785,\n",
              " 'quotes': 786,\n",
              " 'terrorists': 787,\n",
              " 'reached': 788,\n",
              " 'seeking': 789,\n",
              " 'aircraft': 790,\n",
              " 'received': 791,\n",
              " 'annan': 792,\n",
              " '13': 793,\n",
              " 'natural': 794,\n",
              " 'allegations': 795,\n",
              " 'arrived': 796,\n",
              " 'supplies': 797,\n",
              " 'measures': 798,\n",
              " 'address': 799,\n",
              " 'rule': 800,\n",
              " 'muslims': 801,\n",
              " 'run': 802,\n",
              " 'referendum': 803,\n",
              " 'supreme': 804,\n",
              " '18': 805,\n",
              " 'wants': 806,\n",
              " 'gulf': 807,\n",
              " 'travel': 808,\n",
              " 'life': 809,\n",
              " 'form': 810,\n",
              " 'alliance': 811,\n",
              " 'investment': 812,\n",
              " 'village': 813,\n",
              " 'sharon': 814,\n",
              " 'declared': 815,\n",
              " 'officer': 816,\n",
              " 'asian': 817,\n",
              " 'journalists': 818,\n",
              " 'threatened': 819,\n",
              " 'win': 820,\n",
              " 'toward': 821,\n",
              " 'dollars': 822,\n",
              " 'olympic': 823,\n",
              " 'again': 824,\n",
              " 'sides': 825,\n",
              " 'citizens': 826,\n",
              " 'activists': 827,\n",
              " 'published': 828,\n",
              " 'mostly': 829,\n",
              " 'ali': 830,\n",
              " 'exchange': 831,\n",
              " 'kandahar': 832,\n",
              " 'withdrawal': 833,\n",
              " 'fled': 834,\n",
              " 'offensive': 835,\n",
              " 'interview': 836,\n",
              " 'immediately': 837,\n",
              " 'religious': 838,\n",
              " 'based': 839,\n",
              " 'hugo': 840,\n",
              " 'wanted': 841,\n",
              " 'dispute': 842,\n",
              " 'reforms': 843,\n",
              " 'tried': 844,\n",
              " 'fell': 845,\n",
              " 'atomic': 846,\n",
              " 'century': 847,\n",
              " 'seen': 848,\n",
              " 'earthquake': 849,\n",
              " 'kabul': 850,\n",
              " 'similar': 851,\n",
              " 'abu': 852,\n",
              " 'concern': 853,\n",
              " 'body': 854,\n",
              " 'toll': 855,\n",
              " 'construction': 856,\n",
              " 'attempt': 857,\n",
              " 'karzai': 858,\n",
              " 'network': 859,\n",
              " 'few': 860,\n",
              " 'authority': 861,\n",
              " 'private': 862,\n",
              " 'cities': 863,\n",
              " 'candidates': 864,\n",
              " 'interim': 865,\n",
              " 'cuban': 866,\n",
              " 'interior': 867,\n",
              " 'seats': 868,\n",
              " 'refused': 869,\n",
              " 'continues': 870,\n",
              " 'bring': 871,\n",
              " 'sudanese': 872,\n",
              " 'holding': 873,\n",
              " 'using': 874,\n",
              " 'brazil': 875,\n",
              " 'somali': 876,\n",
              " 'need': 877,\n",
              " 'build': 878,\n",
              " 'suspect': 879,\n",
              " 'broke': 880,\n",
              " 'crude': 881,\n",
              " 'announcement': 882,\n",
              " 'almost': 883,\n",
              " 'round': 884,\n",
              " 'fatah': 885,\n",
              " 'putin': 886,\n",
              " 'ousted': 887,\n",
              " '17': 888,\n",
              " 'leave': 889,\n",
              " 'yet': 890,\n",
              " 'convoy': 891,\n",
              " 'response': 892,\n",
              " 'sri': 893,\n",
              " 'massive': 894,\n",
              " 'millions': 895,\n",
              " 'sea': 896,\n",
              " 'growing': 897,\n",
              " 'mass': 898,\n",
              " 'wounding': 899,\n",
              " 'congo': 900,\n",
              " 'passed': 901,\n",
              " 'pressure': 902,\n",
              " 'decades': 903,\n",
              " 'lost': 904,\n",
              " 'governor': 905,\n",
              " 'warning': 906,\n",
              " 'himself': 907,\n",
              " 'prevent': 908,\n",
              " 'assistance': 909,\n",
              " 'assembly': 910,\n",
              " 'tax': 911,\n",
              " 'population': 912,\n",
              " 'rate': 913,\n",
              " 'currently': 914,\n",
              " 'clashes': 915,\n",
              " 'spread': 916,\n",
              " 'likely': 917,\n",
              " 'debt': 918,\n",
              " 'tsunami': 919,\n",
              " 'reform': 920,\n",
              " 'arms': 921,\n",
              " 'ahmadinejad': 922,\n",
              " 'explosives': 923,\n",
              " 'ruled': 924,\n",
              " 'proposed': 925,\n",
              " 'australia': 926,\n",
              " 'raid': 927,\n",
              " 'returned': 928,\n",
              " 'secretary-general': 929,\n",
              " '1': 930,\n",
              " 'soon': 931,\n",
              " 'added': 932,\n",
              " 'total': 933,\n",
              " 'voted': 934,\n",
              " 'katrina': 935,\n",
              " 'allowed': 936,\n",
              " 'annual': 937,\n",
              " 'named': 938,\n",
              " 'charge': 939,\n",
              " 'policemen': 940,\n",
              " '200': 941,\n",
              " 'person': 942,\n",
              " 'rocket': 943,\n",
              " 'evidence': 944,\n",
              " 'legal': 945,\n",
              " 'although': 946,\n",
              " 'communist': 947,\n",
              " 'good': 948,\n",
              " 'peaceful': 949,\n",
              " 'conditions': 950,\n",
              " 'associated': 951,\n",
              " 'hussein': 952,\n",
              " 'jewish': 953,\n",
              " 'full': 954,\n",
              " 'needed': 955,\n",
              " 'progress': 956,\n",
              " 'terror': 957,\n",
              " 'nepal': 958,\n",
              " 'casualties': 959,\n",
              " '16': 960,\n",
              " 'italy': 961,\n",
              " 'probe': 962,\n",
              " 'right': 963,\n",
              " 'school': 964,\n",
              " 'yushchenko': 965,\n",
              " 'away': 966,\n",
              " 'demonstrators': 967,\n",
              " 'fraud': 968,\n",
              " 'spoke': 969,\n",
              " 'insurgent': 970,\n",
              " 'detention': 971,\n",
              " 'hezbollah': 972,\n",
              " 'share': 973,\n",
              " 'analysts': 974,\n",
              " 'destroyed': 975,\n",
              " 'prosecutors': 976,\n",
              " '60': 977,\n",
              " 'patrol': 978,\n",
              " 'elsewhere': 979,\n",
              " 'castro': 980,\n",
              " 'assassination': 981,\n",
              " 'violent': 982,\n",
              " 'activity': 983,\n",
              " 'enough': 984,\n",
              " 'spending': 985,\n",
              " 'diplomatic': 986,\n",
              " 'paul': 987,\n",
              " 'pyongyang': 988,\n",
              " 'given': 989,\n",
              " 'blair': 990,\n",
              " 'less': 991,\n",
              " 'sales': 992,\n",
              " 'keep': 993,\n",
              " 'struck': 994,\n",
              " 'tests': 995,\n",
              " 'believe': 996,\n",
              " 'even': 997,\n",
              " 'agriculture': 998,\n",
              " 'georgia': 999,\n",
              " 'road': 1000,\n",
              " ...}"
            ]
          },
          "metadata": {},
          "execution_count": 39
        }
      ]
    },
    {
      "cell_type": "code",
      "source": [
        "tar_tokenizer.word_index"
      ],
      "metadata": {
        "colab": {
          "base_uri": "https://localhost:8080/"
        },
        "id": "HgTHts1HMqyu",
        "outputId": "9277cd45-ba04-4c19-ec34-3da9bf24c9c3"
      },
      "execution_count": 28,
      "outputs": [
        {
          "output_type": "execute_result",
          "data": {
            "text/plain": [
              "{'O': 1,\n",
              " 'B-geo': 2,\n",
              " 'B-tim': 3,\n",
              " 'B-org': 4,\n",
              " 'I-per': 5,\n",
              " 'B-per': 6,\n",
              " 'I-org': 7,\n",
              " 'B-gpe': 8,\n",
              " 'I-geo': 9,\n",
              " 'I-tim': 10,\n",
              " 'B-art': 11,\n",
              " 'B-eve': 12,\n",
              " 'I-art': 13,\n",
              " 'I-eve': 14,\n",
              " 'B-nat': 15,\n",
              " 'I-gpe': 16,\n",
              " 'I-nat': 17}"
            ]
          },
          "metadata": {},
          "execution_count": 28
        }
      ]
    },
    {
      "cell_type": "code",
      "source": [
        "print('단어 OOV의 인덱스 : {}'.format(src_tokenizer.word_index['OOV']))"
      ],
      "metadata": {
        "colab": {
          "base_uri": "https://localhost:8080/"
        },
        "id": "n2JztpamMvKe",
        "outputId": "02c845c2-5fe9-4eab-f462-0fd836ff484c"
      },
      "execution_count": 29,
      "outputs": [
        {
          "output_type": "stream",
          "name": "stdout",
          "text": [
            "단어 OOV의 인덱스 : 1\n"
          ]
        }
      ]
    },
    {
      "cell_type": "code",
      "source": [
        "x_data = src_tokenizer.texts_to_sequences(sentences)\n",
        "y_data = tar_tokenizer.texts_to_sequences(ner_tags)"
      ],
      "metadata": {
        "id": "uin3VmHhM_Kd"
      },
      "execution_count": 30,
      "outputs": []
    },
    {
      "cell_type": "code",
      "source": [
        "print(x_data[0])\n",
        "print(y_data[0])"
      ],
      "metadata": {
        "colab": {
          "base_uri": "https://localhost:8080/"
        },
        "id": "2ffnoXN3NI5e",
        "outputId": "9993d15b-4f56-4deb-fe3f-53b7a2cadff8"
      },
      "execution_count": 31,
      "outputs": [
        {
          "output_type": "stream",
          "name": "stdout",
          "text": [
            "[254, 6, 967, 16, 1795, 238, 468, 7, 523, 2, 129, 5, 61, 9, 571, 2, 833, 6, 186, 90, 22, 15, 56, 3]\n",
            "[1, 1, 1, 1, 1, 1, 2, 1, 1, 1, 1, 1, 2, 1, 1, 1, 1, 1, 8, 1, 1, 1, 1, 1]\n"
          ]
        }
      ]
    },
    {
      "cell_type": "code",
      "source": [
        "word_to_index = src_tokenizer.word_index\n",
        "index_to_word = src_tokenizer.index_word\n",
        "ner_to_index = tar_tokenizer.word_index\n",
        "index_to_ner = tar_tokenizer.index_word\n",
        "index_to_ner[0]='PAD'\n",
        "\n",
        "print(index_to_ner)"
      ],
      "metadata": {
        "colab": {
          "base_uri": "https://localhost:8080/"
        },
        "id": "ycKwKrSvNM2P",
        "outputId": "1676709a-7f1d-42b7-851c-74cf0c3bd224"
      },
      "execution_count": 32,
      "outputs": [
        {
          "output_type": "stream",
          "name": "stdout",
          "text": [
            "{1: 'O', 2: 'B-geo', 3: 'B-tim', 4: 'B-org', 5: 'I-per', 6: 'B-per', 7: 'I-org', 8: 'B-gpe', 9: 'I-geo', 10: 'I-tim', 11: 'B-art', 12: 'B-eve', 13: 'I-art', 14: 'I-eve', 15: 'B-nat', 16: 'I-gpe', 17: 'I-nat', 0: 'PAD'}\n"
          ]
        }
      ]
    },
    {
      "cell_type": "code",
      "source": [
        "decoded = []\n",
        "for index in x_data[0]:\n",
        "  decoded.append(index_to_word[index])\n",
        "\n",
        "print('기존의 문장 : {}'.format(sentences[0]))\n",
        "print('디코딩 문장 : {}'.format(decoded))"
      ],
      "metadata": {
        "colab": {
          "base_uri": "https://localhost:8080/"
        },
        "id": "0kltEQrkNjS9",
        "outputId": "f0db4e7f-6e52-4ad8-a56d-3377ce5e73a4"
      },
      "execution_count": 33,
      "outputs": [
        {
          "output_type": "stream",
          "name": "stdout",
          "text": [
            "기존의 문장 : ['thousands', 'of', 'demonstrators', 'have', 'marched', 'through', 'london', 'to', 'protest', 'the', 'war', 'in', 'iraq', 'and', 'demand', 'the', 'withdrawal', 'of', 'british', 'troops', 'from', 'that', 'country', '.']\n",
            "디코딩 문장 : ['thousands', 'of', 'demonstrators', 'have', 'marched', 'through', 'london', 'to', 'protest', 'the', 'war', 'in', 'iraq', 'and', 'demand', 'the', 'withdrawal', 'of', 'british', 'troops', 'from', 'that', 'country', '.']\n"
          ]
        }
      ]
    },
    {
      "cell_type": "code",
      "source": [
        "max_len = 70\n",
        "x_data = pad_sequences(x_data, padding='post', maxlen=max_len)\n",
        "y_data = pad_sequences(y_data, padding='post', maxlen=max_len)"
      ],
      "metadata": {
        "id": "viOdMxqiOl2P"
      },
      "execution_count": 34,
      "outputs": []
    },
    {
      "cell_type": "code",
      "source": [
        "x_data[0]"
      ],
      "metadata": {
        "colab": {
          "base_uri": "https://localhost:8080/"
        },
        "id": "HLZKDHThPM01",
        "outputId": "65f3d136-2d52-448b-fa2a-e0c83fbd4c54"
      },
      "execution_count": 37,
      "outputs": [
        {
          "output_type": "execute_result",
          "data": {
            "text/plain": [
              "array([ 254,    6,  967,   16, 1795,  238,  468,    7,  523,    2,  129,\n",
              "          5,   61,    9,  571,    2,  833,    6,  186,   90,   22,   15,\n",
              "         56,    3,    0,    0,    0,    0,    0,    0,    0,    0,    0,\n",
              "          0,    0,    0,    0,    0,    0,    0,    0,    0,    0,    0,\n",
              "          0,    0,    0,    0,    0,    0,    0,    0,    0,    0,    0,\n",
              "          0,    0,    0,    0,    0,    0,    0,    0,    0,    0,    0,\n",
              "          0,    0,    0,    0], dtype=int32)"
            ]
          },
          "metadata": {},
          "execution_count": 37
        }
      ]
    },
    {
      "cell_type": "code",
      "source": [
        "y_data[0]"
      ],
      "metadata": {
        "colab": {
          "base_uri": "https://localhost:8080/"
        },
        "id": "zGYXHaRnPSd4",
        "outputId": "c4399815-69d1-477c-942f-609c6d88a73d"
      },
      "execution_count": 38,
      "outputs": [
        {
          "output_type": "execute_result",
          "data": {
            "text/plain": [
              "array([1, 1, 1, 1, 1, 1, 2, 1, 1, 1, 1, 1, 2, 1, 1, 1, 1, 1, 8, 1, 1, 1,\n",
              "       1, 1, 0, 0, 0, 0, 0, 0, 0, 0, 0, 0, 0, 0, 0, 0, 0, 0, 0, 0, 0, 0,\n",
              "       0, 0, 0, 0, 0, 0, 0, 0, 0, 0, 0, 0, 0, 0, 0, 0, 0, 0, 0, 0, 0, 0,\n",
              "       0, 0, 0, 0], dtype=int32)"
            ]
          },
          "metadata": {},
          "execution_count": 38
        }
      ]
    },
    {
      "cell_type": "code",
      "source": [
        "x_train, x_test, y_train_int, y_test_int = train_test_split(x_data, y_data, test_size=0.2)"
      ],
      "metadata": {
        "id": "M9zioSetO0oF"
      },
      "execution_count": 35,
      "outputs": []
    },
    {
      "cell_type": "code",
      "source": [
        "y_train = to_categorical(y_train_int, num_classes=tag_size)\n",
        "y_test = to_categorical(y_test_int, num_classes=tag_size)"
      ],
      "metadata": {
        "id": "zi9fy6E4O8Nd"
      },
      "execution_count": 36,
      "outputs": []
    },
    {
      "cell_type": "code",
      "source": [
        "print('훈련 샘플 문장의 크기 : {}'.format(x_train.shape))\n",
        "print('훈련 샘플 레이블(정수 인코딩)의 크기 : {}'.format(y_train_int.shape))\n",
        "print('훈련 샘플 레이블(원-핫 인코딩)의 크기 : {}'.format(y_train.shape))\n",
        "print('테스트 샘플 문장의 크기 : {}'.format(x_test.shape))\n",
        "print('테스트 샘플 레이블(정수 인코딩)의 크기 : {}'.format(y_test_int.shape))\n",
        "print('태스트 샘플 레이블(원-핫 인코딩)의 크기 : {}'.format(y_test.shape))"
      ],
      "metadata": {
        "colab": {
          "base_uri": "https://localhost:8080/"
        },
        "id": "pTpP1z0nPLFG",
        "outputId": "47e9af93-5752-4e2e-8d7b-49a4d2a38e8c"
      },
      "execution_count": 40,
      "outputs": [
        {
          "output_type": "stream",
          "name": "stdout",
          "text": [
            "훈련 샘플 문장의 크기 : (38367, 70)\n",
            "훈련 샘플 레이블(정수 인코딩)의 크기 : (38367, 70)\n",
            "훈련 샘플 레이블(원-핫 인코딩)의 크기 : (38367, 70, 18)\n",
            "테스트 샘플 문장의 크기 : (9592, 70)\n",
            "테스트 샘플 레이블(정수 인코딩)의 크기 : (9592, 70)\n",
            "태스트 샘플 레이블(원-핫 인코딩)의 크기 : (9592, 70, 18)\n"
          ]
        }
      ]
    },
    {
      "cell_type": "code",
      "source": [
        "from tensorflow.keras.models import Sequential\n",
        "from tensorflow.keras.layers import Dense, LSTM, InputLayer, Bidirectional, TimeDistributed, Embedding\n",
        "from tensorflow.keras.optimizers import Adam\n",
        "\n",
        "embedding_dim = 128\n",
        "hidden_units = 256\n",
        "\n",
        "model = Sequential()\n",
        "model.add(Embedding(vocab_size, embedding_dim, mask_zero=True))\n",
        "model.add(Bidirectional(LSTM(hidden_units, return_sequences=True)))\n",
        "model.add(TimeDistributed(Dense(tag_size, activation=('softmax'))))\n",
        "model.compile(loss='categorical_crossentropy', optimizer=Adam(0.001), metrics=['accuracy'])\n",
        "\n",
        "model.fit(x_train, y_train, batch_size=128, epochs=6, validation_split=0.1)"
      ],
      "metadata": {
        "colab": {
          "base_uri": "https://localhost:8080/"
        },
        "id": "Br3UoGUtQAcF",
        "outputId": "dbf5ac4b-f1fa-4c5d-c570-4cecaf096a07"
      },
      "execution_count": 41,
      "outputs": [
        {
          "output_type": "stream",
          "name": "stdout",
          "text": [
            "Epoch 1/6\n",
            "270/270 [==============================] - 48s 130ms/step - loss: 0.5509 - accuracy: 0.8772 - val_loss: 0.2462 - val_accuracy: 0.9331\n",
            "Epoch 2/6\n",
            "270/270 [==============================] - 11s 41ms/step - loss: 0.1718 - accuracy: 0.9505 - val_loss: 0.1536 - val_accuracy: 0.9553\n",
            "Epoch 3/6\n",
            "270/270 [==============================] - 8s 29ms/step - loss: 0.1164 - accuracy: 0.9651 - val_loss: 0.1370 - val_accuracy: 0.9587\n",
            "Epoch 4/6\n",
            "270/270 [==============================] - 7s 25ms/step - loss: 0.0937 - accuracy: 0.9711 - val_loss: 0.1346 - val_accuracy: 0.9605\n",
            "Epoch 5/6\n",
            "270/270 [==============================] - 5s 20ms/step - loss: 0.0802 - accuracy: 0.9747 - val_loss: 0.1408 - val_accuracy: 0.9599\n",
            "Epoch 6/6\n",
            "270/270 [==============================] - 6s 24ms/step - loss: 0.0702 - accuracy: 0.9775 - val_loss: 0.1387 - val_accuracy: 0.9609\n"
          ]
        },
        {
          "output_type": "execute_result",
          "data": {
            "text/plain": [
              "<keras.callbacks.History at 0x7f3f97bfb340>"
            ]
          },
          "metadata": {},
          "execution_count": 41
        }
      ]
    },
    {
      "cell_type": "code",
      "source": [
        "i = 27\n",
        "y_predicted = model.predict(np.array([x_test[i]]))\n",
        "y_predicted"
      ],
      "metadata": {
        "colab": {
          "base_uri": "https://localhost:8080/"
        },
        "id": "hsal8tEhRIZ9",
        "outputId": "e8c38e99-278a-445a-aa71-3711e513a874"
      },
      "execution_count": 55,
      "outputs": [
        {
          "output_type": "stream",
          "name": "stdout",
          "text": [
            "1/1 [==============================] - 0s 23ms/step\n"
          ]
        },
        {
          "output_type": "execute_result",
          "data": {
            "text/plain": [
              "array([[[1.5420227e-08, 9.9993253e-01, 1.0560876e-06, ...,\n",
              "         3.1194454e-06, 1.1739030e-07, 1.0391931e-06],\n",
              "        [2.6333726e-08, 9.9961674e-01, 9.8519286e-06, ...,\n",
              "         1.9163339e-05, 8.2396745e-08, 1.7929070e-06],\n",
              "        [4.9059702e-07, 9.1069657e-01, 9.7990312e-05, ...,\n",
              "         2.9869701e-04, 2.4282851e-06, 4.5486453e-05],\n",
              "        ...,\n",
              "        [5.5285100e-02, 5.8015272e-02, 5.6879725e-02, ...,\n",
              "         5.5354409e-02, 5.5393726e-02, 5.5500820e-02],\n",
              "        [5.5285100e-02, 5.8015272e-02, 5.6879725e-02, ...,\n",
              "         5.5354409e-02, 5.5393726e-02, 5.5500820e-02],\n",
              "        [5.5285100e-02, 5.8015272e-02, 5.6879725e-02, ...,\n",
              "         5.5354409e-02, 5.5393726e-02, 5.5500820e-02]]], dtype=float32)"
            ]
          },
          "metadata": {},
          "execution_count": 55
        }
      ]
    },
    {
      "cell_type": "code",
      "source": [
        "y_predicted = np.argmax(y_predicted, axis=-1)\n",
        "y_predicted"
      ],
      "metadata": {
        "colab": {
          "base_uri": "https://localhost:8080/"
        },
        "id": "93VGcKoLSgEk",
        "outputId": "8b2ae2da-9b1b-4a71-9ca5-712576362e69"
      },
      "execution_count": 56,
      "outputs": [
        {
          "output_type": "execute_result",
          "data": {
            "text/plain": [
              "array([[1, 1, 1, 3, 1, 1, 1, 1, 1, 6, 5, 1, 1, 1, 1, 1, 1, 1, 1, 1, 1, 1,\n",
              "        1, 1, 1, 1, 1, 1, 1, 1, 1, 1, 1, 1, 1, 1, 1, 1, 1, 1, 1, 1, 1, 1,\n",
              "        1, 1, 1, 1, 1, 1, 1, 1, 1, 1, 1, 1, 1, 1, 1, 1, 1, 1, 1, 1, 1, 1,\n",
              "        1, 1, 1, 1]])"
            ]
          },
          "metadata": {},
          "execution_count": 56
        }
      ]
    },
    {
      "cell_type": "code",
      "source": [
        "labels = np.argmax(y_test[i], -1)\n",
        "labels"
      ],
      "metadata": {
        "colab": {
          "base_uri": "https://localhost:8080/"
        },
        "id": "5FmJuqJzS0dM",
        "outputId": "926296ac-ae83-4ac3-eda3-f875ee45784e"
      },
      "execution_count": 57,
      "outputs": [
        {
          "output_type": "execute_result",
          "data": {
            "text/plain": [
              "array([ 1,  1,  3, 10,  1,  1,  1,  1,  1,  6,  5,  1,  1,  1,  1,  1,  1,\n",
              "        1,  1,  1,  1, 12,  1,  1,  1,  1,  1,  1,  1,  1,  1,  1,  1,  1,\n",
              "        1,  1,  1,  0,  0,  0,  0,  0,  0,  0,  0,  0,  0,  0,  0,  0,  0,\n",
              "        0,  0,  0,  0,  0,  0,  0,  0,  0,  0,  0,  0,  0,  0,  0,  0,  0,\n",
              "        0,  0])"
            ]
          },
          "metadata": {},
          "execution_count": 57
        }
      ]
    },
    {
      "cell_type": "code",
      "source": [
        "# 숫자 다른 거 입력하면 어떻게 나올지 궁금해서\n",
        "lables_00 = np.argmax(y_test[i], 0)\n",
        "lables_00"
      ],
      "metadata": {
        "colab": {
          "base_uri": "https://localhost:8080/"
        },
        "id": "SOR52lorTKB0",
        "outputId": "addf3d7a-0c2f-46a1-c5b6-139a2c951179"
      },
      "execution_count": 60,
      "outputs": [
        {
          "output_type": "execute_result",
          "data": {
            "text/plain": [
              "array([37,  0,  0,  2,  0, 10,  9,  0,  0,  0,  3,  0, 21,  0,  0,  0,  0,\n",
              "        0])"
            ]
          },
          "metadata": {},
          "execution_count": 60
        }
      ]
    },
    {
      "cell_type": "code",
      "source": [
        "lables_01 = np.argmax(y_test[i], 1)\n",
        "lables_01"
      ],
      "metadata": {
        "colab": {
          "base_uri": "https://localhost:8080/"
        },
        "id": "YdMx1KiUTUSr",
        "outputId": "cb0ffa23-5fa1-4019-fc93-38ed5a0dd205"
      },
      "execution_count": 62,
      "outputs": [
        {
          "output_type": "execute_result",
          "data": {
            "text/plain": [
              "array([ 1,  1,  3, 10,  1,  1,  1,  1,  1,  6,  5,  1,  1,  1,  1,  1,  1,\n",
              "        1,  1,  1,  1, 12,  1,  1,  1,  1,  1,  1,  1,  1,  1,  1,  1,  1,\n",
              "        1,  1,  1,  0,  0,  0,  0,  0,  0,  0,  0,  0,  0,  0,  0,  0,  0,\n",
              "        0,  0,  0,  0,  0,  0,  0,  0,  0,  0,  0,  0,  0,  0,  0,  0,  0,\n",
              "        0,  0])"
            ]
          },
          "metadata": {},
          "execution_count": 62
        }
      ]
    },
    {
      "cell_type": "code",
      "source": [
        "labels_02 = np.argmax(y_test[i], 2)\n",
        "labels_02"
      ],
      "metadata": {
        "colab": {
          "base_uri": "https://localhost:8080/",
          "height": 342
        },
        "id": "NEC31i0uThXs",
        "outputId": "22939d76-54e8-4262-f5d9-19c9bd95da58"
      },
      "execution_count": 63,
      "outputs": [
        {
          "output_type": "error",
          "ename": "AxisError",
          "evalue": "ignored",
          "traceback": [
            "\u001b[0;31m---------------------------------------------------------------------------\u001b[0m",
            "\u001b[0;31mAxisError\u001b[0m                                 Traceback (most recent call last)",
            "\u001b[0;32m<ipython-input-63-163c2ba693a5>\u001b[0m in \u001b[0;36m<cell line: 1>\u001b[0;34m()\u001b[0m\n\u001b[0;32m----> 1\u001b[0;31m \u001b[0mlabels_02\u001b[0m \u001b[0;34m=\u001b[0m \u001b[0mnp\u001b[0m\u001b[0;34m.\u001b[0m\u001b[0margmax\u001b[0m\u001b[0;34m(\u001b[0m\u001b[0my_test\u001b[0m\u001b[0;34m[\u001b[0m\u001b[0mi\u001b[0m\u001b[0;34m]\u001b[0m\u001b[0;34m,\u001b[0m \u001b[0;36m2\u001b[0m\u001b[0;34m)\u001b[0m\u001b[0;34m\u001b[0m\u001b[0;34m\u001b[0m\u001b[0m\n\u001b[0m\u001b[1;32m      2\u001b[0m \u001b[0mlabels_02\u001b[0m\u001b[0;34m\u001b[0m\u001b[0;34m\u001b[0m\u001b[0m\n",
            "\u001b[0;32m/usr/local/lib/python3.10/dist-packages/numpy/core/overrides.py\u001b[0m in \u001b[0;36margmax\u001b[0;34m(*args, **kwargs)\u001b[0m\n",
            "\u001b[0;32m/usr/local/lib/python3.10/dist-packages/numpy/core/fromnumeric.py\u001b[0m in \u001b[0;36margmax\u001b[0;34m(a, axis, out, keepdims)\u001b[0m\n\u001b[1;32m   1214\u001b[0m     \"\"\"\n\u001b[1;32m   1215\u001b[0m     \u001b[0mkwds\u001b[0m \u001b[0;34m=\u001b[0m \u001b[0;34m{\u001b[0m\u001b[0;34m'keepdims'\u001b[0m\u001b[0;34m:\u001b[0m \u001b[0mkeepdims\u001b[0m\u001b[0;34m}\u001b[0m \u001b[0;32mif\u001b[0m \u001b[0mkeepdims\u001b[0m \u001b[0;32mis\u001b[0m \u001b[0;32mnot\u001b[0m \u001b[0mnp\u001b[0m\u001b[0;34m.\u001b[0m\u001b[0m_NoValue\u001b[0m \u001b[0;32melse\u001b[0m \u001b[0;34m{\u001b[0m\u001b[0;34m}\u001b[0m\u001b[0;34m\u001b[0m\u001b[0;34m\u001b[0m\u001b[0m\n\u001b[0;32m-> 1216\u001b[0;31m     \u001b[0;32mreturn\u001b[0m \u001b[0m_wrapfunc\u001b[0m\u001b[0;34m(\u001b[0m\u001b[0ma\u001b[0m\u001b[0;34m,\u001b[0m \u001b[0;34m'argmax'\u001b[0m\u001b[0;34m,\u001b[0m \u001b[0maxis\u001b[0m\u001b[0;34m=\u001b[0m\u001b[0maxis\u001b[0m\u001b[0;34m,\u001b[0m \u001b[0mout\u001b[0m\u001b[0;34m=\u001b[0m\u001b[0mout\u001b[0m\u001b[0;34m,\u001b[0m \u001b[0;34m**\u001b[0m\u001b[0mkwds\u001b[0m\u001b[0;34m)\u001b[0m\u001b[0;34m\u001b[0m\u001b[0;34m\u001b[0m\u001b[0m\n\u001b[0m\u001b[1;32m   1217\u001b[0m \u001b[0;34m\u001b[0m\u001b[0m\n\u001b[1;32m   1218\u001b[0m \u001b[0;34m\u001b[0m\u001b[0m\n",
            "\u001b[0;32m/usr/local/lib/python3.10/dist-packages/numpy/core/fromnumeric.py\u001b[0m in \u001b[0;36m_wrapfunc\u001b[0;34m(obj, method, *args, **kwds)\u001b[0m\n\u001b[1;32m     55\u001b[0m \u001b[0;34m\u001b[0m\u001b[0m\n\u001b[1;32m     56\u001b[0m     \u001b[0;32mtry\u001b[0m\u001b[0;34m:\u001b[0m\u001b[0;34m\u001b[0m\u001b[0;34m\u001b[0m\u001b[0m\n\u001b[0;32m---> 57\u001b[0;31m         \u001b[0;32mreturn\u001b[0m \u001b[0mbound\u001b[0m\u001b[0;34m(\u001b[0m\u001b[0;34m*\u001b[0m\u001b[0margs\u001b[0m\u001b[0;34m,\u001b[0m \u001b[0;34m**\u001b[0m\u001b[0mkwds\u001b[0m\u001b[0;34m)\u001b[0m\u001b[0;34m\u001b[0m\u001b[0;34m\u001b[0m\u001b[0m\n\u001b[0m\u001b[1;32m     58\u001b[0m     \u001b[0;32mexcept\u001b[0m \u001b[0mTypeError\u001b[0m\u001b[0;34m:\u001b[0m\u001b[0;34m\u001b[0m\u001b[0;34m\u001b[0m\u001b[0m\n\u001b[1;32m     59\u001b[0m         \u001b[0;31m# A TypeError occurs if the object does have such a method in its\u001b[0m\u001b[0;34m\u001b[0m\u001b[0;34m\u001b[0m\u001b[0m\n",
            "\u001b[0;31mAxisError\u001b[0m: axis 2 is out of bounds for array of dimension 2"
          ]
        }
      ]
    },
    {
      "cell_type": "code",
      "source": [
        "print(\"{:15}|{:5}|{}\".format(\"단어\",\"실제값\",\"예측값\"))\n",
        "print(35*'-')\n",
        "\n",
        "for word, tag, pred in zip(x_test[i], labels, y_predicted[0]):\n",
        "  if word != 0:\n",
        "    print(\"{:17}: {:7} {}\".format(index_to_word[word], index_to_ner[tag], index_to_ner[pred]))"
      ],
      "metadata": {
        "colab": {
          "base_uri": "https://localhost:8080/"
        },
        "id": "_ZLH93gPT9LH",
        "outputId": "d91e74e9-556e-42ab-ec37-1448a31bec05"
      },
      "execution_count": 64,
      "outputs": [
        {
          "output_type": "stream",
          "name": "stdout",
          "text": [
            "단어             |실제값  |예측값\n",
            "-----------------------------------\n",
            "in               : O       O\n",
            "his              : O       O\n",
            "weekly           : B-tim   O\n",
            "saturday         : I-tim   B-tim\n",
            "radio            : O       O\n",
            "and              : O       O\n",
            "internet         : O       O\n",
            "address          : O       O\n",
            ",                : O       O\n",
            "mr.              : B-per   B-per\n",
            "obama            : I-per   I-per\n",
            "also             : O       O\n",
            "reached          : O       O\n",
            "out              : O       O\n",
            "to               : O       O\n",
            "jewish           : O       O\n",
            "communities      : O       O\n",
            ",                : O       O\n",
            "whose            : O       O\n",
            "celebration      : O       O\n",
            "of               : O       O\n",
            "passover         : B-eve   O\n",
            "ends             : O       O\n",
            "next             : O       O\n",
            "week             : O       O\n",
            ",                : O       O\n",
            "and              : O       O\n",
            "to               : O       O\n",
            "people           : O       O\n",
            "of               : O       O\n",
            "other            : O       O\n",
            "faiths           : O       O\n",
            "as               : O       O\n",
            "well             : O       O\n",
            "as               : O       O\n",
            "non-believers    : O       O\n",
            ".                : O       O\n"
          ]
        }
      ]
    },
    {
      "cell_type": "code",
      "source": [
        "y_predicted[0]"
      ],
      "metadata": {
        "colab": {
          "base_uri": "https://localhost:8080/"
        },
        "id": "IX3zFvGnUXGt",
        "outputId": "07e1db63-b9dd-4de0-f7be-1cd64f1c60b5"
      },
      "execution_count": 65,
      "outputs": [
        {
          "output_type": "execute_result",
          "data": {
            "text/plain": [
              "array([1, 1, 1, 3, 1, 1, 1, 1, 1, 6, 5, 1, 1, 1, 1, 1, 1, 1, 1, 1, 1, 1,\n",
              "       1, 1, 1, 1, 1, 1, 1, 1, 1, 1, 1, 1, 1, 1, 1, 1, 1, 1, 1, 1, 1, 1,\n",
              "       1, 1, 1, 1, 1, 1, 1, 1, 1, 1, 1, 1, 1, 1, 1, 1, 1, 1, 1, 1, 1, 1,\n",
              "       1, 1, 1, 1])"
            ]
          },
          "metadata": {},
          "execution_count": 65
        }
      ]
    },
    {
      "cell_type": "code",
      "source": [
        "y_predicted[1]"
      ],
      "metadata": {
        "colab": {
          "base_uri": "https://localhost:8080/",
          "height": 172
        },
        "id": "kML9f0lGUZyH",
        "outputId": "0c50ebb7-0526-454d-de50-953176d179f5"
      },
      "execution_count": 66,
      "outputs": [
        {
          "output_type": "error",
          "ename": "IndexError",
          "evalue": "ignored",
          "traceback": [
            "\u001b[0;31m---------------------------------------------------------------------------\u001b[0m",
            "\u001b[0;31mIndexError\u001b[0m                                Traceback (most recent call last)",
            "\u001b[0;32m<ipython-input-66-c33217f6b8ae>\u001b[0m in \u001b[0;36m<cell line: 1>\u001b[0;34m()\u001b[0m\n\u001b[0;32m----> 1\u001b[0;31m \u001b[0my_predicted\u001b[0m\u001b[0;34m[\u001b[0m\u001b[0;36m1\u001b[0m\u001b[0;34m]\u001b[0m\u001b[0;34m\u001b[0m\u001b[0;34m\u001b[0m\u001b[0m\n\u001b[0m",
            "\u001b[0;31mIndexError\u001b[0m: index 1 is out of bounds for axis 0 with size 1"
          ]
        }
      ]
    },
    {
      "cell_type": "code",
      "source": [
        "y_predicted[-1]"
      ],
      "metadata": {
        "colab": {
          "base_uri": "https://localhost:8080/"
        },
        "id": "1iYny3ImUblb",
        "outputId": "213df9ca-018f-4e82-c87f-5ab027232717"
      },
      "execution_count": 67,
      "outputs": [
        {
          "output_type": "execute_result",
          "data": {
            "text/plain": [
              "array([1, 1, 1, 3, 1, 1, 1, 1, 1, 6, 5, 1, 1, 1, 1, 1, 1, 1, 1, 1, 1, 1,\n",
              "       1, 1, 1, 1, 1, 1, 1, 1, 1, 1, 1, 1, 1, 1, 1, 1, 1, 1, 1, 1, 1, 1,\n",
              "       1, 1, 1, 1, 1, 1, 1, 1, 1, 1, 1, 1, 1, 1, 1, 1, 1, 1, 1, 1, 1, 1,\n",
              "       1, 1, 1, 1])"
            ]
          },
          "metadata": {},
          "execution_count": 67
        }
      ]
    },
    {
      "cell_type": "code",
      "source": [
        "y_predicted.shape"
      ],
      "metadata": {
        "colab": {
          "base_uri": "https://localhost:8080/"
        },
        "id": "b66VBBO3Uff-",
        "outputId": "8ac9cd95-005f-4e31-cef6-0c5efe94ccb2"
      },
      "execution_count": 68,
      "outputs": [
        {
          "output_type": "execute_result",
          "data": {
            "text/plain": [
              "(1, 70)"
            ]
          },
          "metadata": {},
          "execution_count": 68
        }
      ]
    },
    {
      "cell_type": "code",
      "source": [
        "!pip install seqeval"
      ],
      "metadata": {
        "colab": {
          "base_uri": "https://localhost:8080/"
        },
        "id": "6K7W-UYUUjCj",
        "outputId": "d51b5837-cff7-43ad-9fcc-455f62d66563"
      },
      "execution_count": 69,
      "outputs": [
        {
          "output_type": "stream",
          "name": "stdout",
          "text": [
            "Looking in indexes: https://pypi.org/simple, https://us-python.pkg.dev/colab-wheels/public/simple/\n",
            "Collecting seqeval\n",
            "  Downloading seqeval-1.2.2.tar.gz (43 kB)\n",
            "\u001b[2K     \u001b[90m━━━━━━━━━━━━━━━━━━━━━━━━━━━━━━━━━━━━━━━━\u001b[0m \u001b[32m43.6/43.6 kB\u001b[0m \u001b[31m3.6 MB/s\u001b[0m eta \u001b[36m0:00:00\u001b[0m\n",
            "\u001b[?25h  Preparing metadata (setup.py) ... \u001b[?25l\u001b[?25hdone\n",
            "Requirement already satisfied: numpy>=1.14.0 in /usr/local/lib/python3.10/dist-packages (from seqeval) (1.22.4)\n",
            "Requirement already satisfied: scikit-learn>=0.21.3 in /usr/local/lib/python3.10/dist-packages (from seqeval) (1.2.2)\n",
            "Requirement already satisfied: scipy>=1.3.2 in /usr/local/lib/python3.10/dist-packages (from scikit-learn>=0.21.3->seqeval) (1.10.1)\n",
            "Requirement already satisfied: joblib>=1.1.1 in /usr/local/lib/python3.10/dist-packages (from scikit-learn>=0.21.3->seqeval) (1.2.0)\n",
            "Requirement already satisfied: threadpoolctl>=2.0.0 in /usr/local/lib/python3.10/dist-packages (from scikit-learn>=0.21.3->seqeval) (3.1.0)\n",
            "Building wheels for collected packages: seqeval\n",
            "  Building wheel for seqeval (setup.py) ... \u001b[?25l\u001b[?25hdone\n",
            "  Created wheel for seqeval: filename=seqeval-1.2.2-py3-none-any.whl size=16165 sha256=e767ae5180b570cb0a75abd6d5d46d1848753a7639c0d3aa457175b598bc3a0f\n",
            "  Stored in directory: /root/.cache/pip/wheels/1a/67/4a/ad4082dd7dfc30f2abfe4d80a2ed5926a506eb8a972b4767fa\n",
            "Successfully built seqeval\n",
            "Installing collected packages: seqeval\n",
            "Successfully installed seqeval-1.2.2\n"
          ]
        }
      ]
    },
    {
      "cell_type": "code",
      "source": [
        "from seqeval.metrics import f1_score, classification_report\n",
        "\n",
        "def sequences_to_tag(sequences):\n",
        "  result = []\n",
        "  for sequence in sequences:\n",
        "    word_sequence = []\n",
        "    for pred in sequence:\n",
        "      pred_index = np.argmax(pred)\n",
        "      word_sequence.append(index_to_ner[pred_index].replace(\"PAD\", \"O\"))\n",
        "    result.append(word_sequence)\n",
        "  return result\n",
        "\n",
        "y_predicted = model.predict([x_test])\n",
        "pred_tags = sequences_to_tag(y_predicted)\n",
        "test_tags = sequences_to_tag(y_test)\n",
        "\n",
        "print(\"F1-score: {:.1%}\".format(f1_score(test_tags, pred_tags)))\n",
        "print(classification_report(test_tags, pred_tags))"
      ],
      "metadata": {
        "colab": {
          "base_uri": "https://localhost:8080/"
        },
        "id": "Mcko6TKjWiHR",
        "outputId": "3c153536-7d6c-4dee-93e6-680df6b56f81"
      },
      "execution_count": 70,
      "outputs": [
        {
          "output_type": "stream",
          "name": "stdout",
          "text": [
            "300/300 [==============================] - 4s 4ms/step\n",
            "F1-score: 78.1%\n",
            "              precision    recall  f1-score   support\n",
            "\n",
            "         art       0.17      0.07      0.10        85\n",
            "         eve       0.52      0.32      0.40        72\n",
            "         geo       0.82      0.84      0.83      7548\n",
            "         gpe       0.97      0.92      0.95      3165\n",
            "         nat       0.26      0.21      0.24        42\n",
            "         org       0.59      0.57      0.58      4059\n",
            "         per       0.70      0.70      0.70      3420\n",
            "         tim       0.84      0.84      0.84      4164\n",
            "\n",
            "   micro avg       0.78      0.78      0.78     22555\n",
            "   macro avg       0.61      0.56      0.58     22555\n",
            "weighted avg       0.78      0.78      0.78     22555\n",
            "\n"
          ]
        }
      ]
    },
    {
      "cell_type": "markdown",
      "source": [
        "[노션 정리](https://www.notion.so/BiLSTM-Named-Entity-Recognition-NER-0c5bac267d1d4fa6a9a73d1712044a27#ca7454daed0a4abd9838c8627f8163cc)"
      ],
      "metadata": {
        "id": "eD-GcU5CZcFJ"
      }
    }
  ],
  "metadata": {
    "colab": {
      "provenance": [],
      "machine_shape": "hm",
      "gpuType": "V100"
    },
    "gpuClass": "premium",
    "kernelspec": {
      "display_name": "Python 3",
      "name": "python3"
    },
    "language_info": {
      "name": "python"
    },
    "accelerator": "GPU"
  },
  "nbformat": 4,
  "nbformat_minor": 0
}